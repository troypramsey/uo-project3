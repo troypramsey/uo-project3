{
 "cells": [
  {
   "cell_type": "code",
   "execution_count": 4,
   "metadata": {},
   "outputs": [],
   "source": [
    "# dependencies\n",
    "import pandas as pd\n",
    "from census import Census\n",
    "from us import states\n",
    "\n",
    "# census API key\n",
    "from config import api_key"
   ]
  },
  {
   "cell_type": "markdown",
   "metadata": {},
   "source": [
    "### 2011 Census Call"
   ]
  },
  {
   "cell_type": "code",
   "execution_count": 5,
   "metadata": {},
   "outputs": [],
   "source": [
    "mhi = 'B19013_001E'\n",
    "mhv = 'B25077_001E'\n",
    "wbd = 'B99151_001E'\n",
    "\n",
    "c = Census(api_key, year=2011)"
   ]
  },
  {
   "cell_type": "code",
   "execution_count": 6,
   "metadata": {},
   "outputs": [],
   "source": [
    "income_df = pd.DataFrame(c.acs5.zipcode(mhi, Census.ALL))\n",
    "housing_df = pd.DataFrame(c.acs5.zipcode(mhv, Census.ALL))\n",
    "bachelors_df = pd.DataFrame(c.acs5.zipcode(wbd, Census.ALL))\n",
    "total_df = pd.DataFrame(c.acs5.zipcode('B01003_001E', Census.ALL))\n",
    "\n",
    "df11 = income_df.merge(housing_df, on='zip code tabulation area')\n",
    "df11 = df11.merge(bachelors_df, on='zip code tabulation area')\n",
    "df11 = df11.merge(total_df, on='zip code tabulation area')\n",
    "\n",
    "df11 = df11.rename(columns={'B19013_001E': 'Median Household Income', 'zip code tabulation area': 'Zip', 'B25077_001E': 'Median Home Value', 'B01003_001E': 'Total Population', 'B99151_001E': 'Have Bachelors+'})\n",
    "\n",
    "df11['% Bachelors+'] = round(df11['Have Bachelors+']/df11['Total Population'] * 100, 2)"
   ]
  },
  {
   "cell_type": "code",
   "execution_count": 7,
   "metadata": {},
   "outputs": [
    {
     "data": {
      "text/html": [
       "<div>\n",
       "<style scoped>\n",
       "    .dataframe tbody tr th:only-of-type {\n",
       "        vertical-align: middle;\n",
       "    }\n",
       "\n",
       "    .dataframe tbody tr th {\n",
       "        vertical-align: top;\n",
       "    }\n",
       "\n",
       "    .dataframe thead th {\n",
       "        text-align: right;\n",
       "    }\n",
       "</style>\n",
       "<table border=\"1\" class=\"dataframe\">\n",
       "  <thead>\n",
       "    <tr style=\"text-align: right;\">\n",
       "      <th></th>\n",
       "      <th>Median Household Income</th>\n",
       "      <th>Zip</th>\n",
       "      <th>Median Home Value</th>\n",
       "      <th>Have Bachelors+</th>\n",
       "      <th>Total Population</th>\n",
       "      <th>% Bachelors+</th>\n",
       "    </tr>\n",
       "  </thead>\n",
       "  <tbody>\n",
       "    <tr>\n",
       "      <th>0</th>\n",
       "      <td>13318.0</td>\n",
       "      <td>00601</td>\n",
       "      <td>103200.0</td>\n",
       "      <td>11724.0</td>\n",
       "      <td>18533.0</td>\n",
       "      <td>63.26</td>\n",
       "    </tr>\n",
       "    <tr>\n",
       "      <th>1</th>\n",
       "      <td>14947.0</td>\n",
       "      <td>00602</td>\n",
       "      <td>89300.0</td>\n",
       "      <td>27432.0</td>\n",
       "      <td>41930.0</td>\n",
       "      <td>65.42</td>\n",
       "    </tr>\n",
       "    <tr>\n",
       "      <th>2</th>\n",
       "      <td>14437.0</td>\n",
       "      <td>00603</td>\n",
       "      <td>116700.0</td>\n",
       "      <td>36436.0</td>\n",
       "      <td>54475.0</td>\n",
       "      <td>66.89</td>\n",
       "    </tr>\n",
       "    <tr>\n",
       "      <th>3</th>\n",
       "      <td>11155.0</td>\n",
       "      <td>00606</td>\n",
       "      <td>101000.0</td>\n",
       "      <td>4038.0</td>\n",
       "      <td>6386.0</td>\n",
       "      <td>63.23</td>\n",
       "    </tr>\n",
       "    <tr>\n",
       "      <th>4</th>\n",
       "      <td>16367.0</td>\n",
       "      <td>00610</td>\n",
       "      <td>109400.0</td>\n",
       "      <td>19302.0</td>\n",
       "      <td>29111.0</td>\n",
       "      <td>66.30</td>\n",
       "    </tr>\n",
       "    <tr>\n",
       "      <th>...</th>\n",
       "      <td>...</td>\n",
       "      <td>...</td>\n",
       "      <td>...</td>\n",
       "      <td>...</td>\n",
       "      <td>...</td>\n",
       "      <td>...</td>\n",
       "    </tr>\n",
       "    <tr>\n",
       "      <th>33115</th>\n",
       "      <td>27500.0</td>\n",
       "      <td>99923</td>\n",
       "      <td>108300.0</td>\n",
       "      <td>77.0</td>\n",
       "      <td>116.0</td>\n",
       "      <td>66.38</td>\n",
       "    </tr>\n",
       "    <tr>\n",
       "      <th>33116</th>\n",
       "      <td>43125.0</td>\n",
       "      <td>99925</td>\n",
       "      <td>164400.0</td>\n",
       "      <td>525.0</td>\n",
       "      <td>689.0</td>\n",
       "      <td>76.20</td>\n",
       "    </tr>\n",
       "    <tr>\n",
       "      <th>33117</th>\n",
       "      <td>45216.0</td>\n",
       "      <td>99926</td>\n",
       "      <td>101100.0</td>\n",
       "      <td>919.0</td>\n",
       "      <td>1488.0</td>\n",
       "      <td>61.76</td>\n",
       "    </tr>\n",
       "    <tr>\n",
       "      <th>33118</th>\n",
       "      <td>17639.0</td>\n",
       "      <td>99927</td>\n",
       "      <td>123800.0</td>\n",
       "      <td>67.0</td>\n",
       "      <td>67.0</td>\n",
       "      <td>100.00</td>\n",
       "    </tr>\n",
       "    <tr>\n",
       "      <th>33119</th>\n",
       "      <td>50286.0</td>\n",
       "      <td>99929</td>\n",
       "      <td>169600.0</td>\n",
       "      <td>1582.0</td>\n",
       "      <td>2321.0</td>\n",
       "      <td>68.16</td>\n",
       "    </tr>\n",
       "  </tbody>\n",
       "</table>\n",
       "<p>33120 rows × 6 columns</p>\n",
       "</div>"
      ],
      "text/plain": [
       "       Median Household Income    Zip  Median Home Value  Have Bachelors+  \\\n",
       "0                      13318.0  00601           103200.0          11724.0   \n",
       "1                      14947.0  00602            89300.0          27432.0   \n",
       "2                      14437.0  00603           116700.0          36436.0   \n",
       "3                      11155.0  00606           101000.0           4038.0   \n",
       "4                      16367.0  00610           109400.0          19302.0   \n",
       "...                        ...    ...                ...              ...   \n",
       "33115                  27500.0  99923           108300.0             77.0   \n",
       "33116                  43125.0  99925           164400.0            525.0   \n",
       "33117                  45216.0  99926           101100.0            919.0   \n",
       "33118                  17639.0  99927           123800.0             67.0   \n",
       "33119                  50286.0  99929           169600.0           1582.0   \n",
       "\n",
       "       Total Population  % Bachelors+  \n",
       "0               18533.0         63.26  \n",
       "1               41930.0         65.42  \n",
       "2               54475.0         66.89  \n",
       "3                6386.0         63.23  \n",
       "4               29111.0         66.30  \n",
       "...                 ...           ...  \n",
       "33115             116.0         66.38  \n",
       "33116             689.0         76.20  \n",
       "33117            1488.0         61.76  \n",
       "33118              67.0        100.00  \n",
       "33119            2321.0         68.16  \n",
       "\n",
       "[33120 rows x 6 columns]"
      ]
     },
     "execution_count": 7,
     "metadata": {},
     "output_type": "execute_result"
    }
   ],
   "source": [
    "df11"
   ]
  },
  {
   "cell_type": "code",
   "execution_count": 8,
   "metadata": {},
   "outputs": [],
   "source": [
    "df11.to_csv('data_exploration/data/df11.csv')"
   ]
  },
  {
   "cell_type": "code",
   "execution_count": null,
   "metadata": {},
   "outputs": [],
   "source": [
    "print(df11['Median Household Income'].isna().sum())\n",
    "print(df11['Median Home Value'].isna().sum())\n",
    "print(df11['Have Bachelors+'].isna().sum())"
   ]
  },
  {
   "cell_type": "code",
   "execution_count": null,
   "metadata": {},
   "outputs": [],
   "source": [
    "print(df11.loc[df11['Median Household Income'] <= 0])\n",
    "print(df11.loc[df11['Median Home Value'] <= 0])\n",
    "print(df11.loc[df11['Have Bachelors+'] <= 0])"
   ]
  },
  {
   "cell_type": "markdown",
   "metadata": {},
   "source": [
    "### 2018 Census Call"
   ]
  },
  {
   "cell_type": "code",
   "execution_count": null,
   "metadata": {},
   "outputs": [],
   "source": [
    "c = Census(api_key, year=2018)"
   ]
  },
  {
   "cell_type": "code",
   "execution_count": null,
   "metadata": {},
   "outputs": [],
   "source": [
    "income_df = pd.DataFrame(c.acs5.zipcode(mhi, Census.ALL))\n",
    "housing_df = pd.DataFrame(c.acs5.zipcode(mhv, Census.ALL))\n",
    "bachelors_df = pd.DataFrame(c.acs5.zipcode(wbd, Census.ALL))\n",
    "total_df = pd.DataFrame(c.acs5.zipcode('B01003_001E', Census.ALL))\n",
    "\n",
    "df18 = income_df.merge(housing_df, on='zip code tabulation area')\n",
    "df18 = df18.merge(bachelors_df, on='zip code tabulation area')\n",
    "df18 = df18.merge(total_df, on='zip code tabulation area')\n",
    "\n",
    "df18 = df18.rename(columns={'B19013_001E': 'Median Household Income', 'zip code tabulation area': 'Zip', 'B25077_001E': 'Median Home Value', 'B01003_001E': 'Total Population', 'B99151_001E': 'Have Bachelors+'})\n",
    "\n",
    "df18['% Bachelors+'] = round(df11['Have Bachelors+']/df11['Total Population'] * 100, 2)"
   ]
  },
  {
   "cell_type": "code",
   "execution_count": null,
   "metadata": {},
   "outputs": [],
   "source": [
    "print(df18['Median Household Income'].isna().sum())\n",
    "print(df18['Median Home Value'].isna().sum())\n",
    "print(df18['Have Bachelors+'].isna().sum())"
   ]
  },
  {
   "cell_type": "code",
   "execution_count": null,
   "metadata": {},
   "outputs": [],
   "source": [
    "df18.loc[df18['Median Household Income'] <= 0]['Median Household Income'].unique()"
   ]
  },
  {
   "cell_type": "code",
   "execution_count": null,
   "metadata": {},
   "outputs": [],
   "source": []
  },
  {
   "cell_type": "code",
   "execution_count": null,
   "metadata": {},
   "outputs": [],
   "source": [
    "print(df18.loc[df18['Median Household Income'] <= 0])\n",
    "print(df18.loc[df18['Median Home Value'] <= 0])\n",
    "print(df18.loc[df18['Have Bachelors+'] <= 0])"
   ]
  },
  {
   "cell_type": "markdown",
   "metadata": {},
   "source": [
    "### Starbucks Data"
   ]
  },
  {
   "cell_type": "code",
   "execution_count": null,
   "metadata": {},
   "outputs": [],
   "source": [
    "sb_data = pd.read_csv('data_exploration/data/directory.csv')"
   ]
  },
  {
   "cell_type": "code",
   "execution_count": null,
   "metadata": {},
   "outputs": [],
   "source": [
    "sb_data.loc[sb_data['Country'] == 'US']['Ownership Type'].value_counts()"
   ]
  },
  {
   "cell_type": "code",
   "execution_count": null,
   "metadata": {},
   "outputs": [],
   "source": [
    "sb_data.loc[sb_data['Country'] == 'US']"
   ]
  },
  {
   "cell_type": "code",
   "execution_count": null,
   "metadata": {},
   "outputs": [],
   "source": [
    "sb_zeroed = sb_data.loc[sb_data['Country'] == 'US'].dropna()"
   ]
  },
  {
   "cell_type": "code",
   "execution_count": null,
   "metadata": {},
   "outputs": [],
   "source": [
    "splits = [int(''.join(str(i).split())[:5]) for i in sb_zeroed['Postcode']]"
   ]
  },
  {
   "cell_type": "code",
   "execution_count": null,
   "metadata": {},
   "outputs": [],
   "source": [
    "sb_zeroed['Zip'] = splits"
   ]
  },
  {
   "cell_type": "code",
   "execution_count": null,
   "metadata": {},
   "outputs": [],
   "source": [
    "len(sb_zeroed.loc[sb_zeroed['Zip'] == 0])"
   ]
  },
  {
   "cell_type": "code",
   "execution_count": null,
   "metadata": {},
   "outputs": [],
   "source": [
    "sb_groupby = sb_zeroed.groupby('Zip')"
   ]
  },
  {
   "cell_type": "code",
   "execution_count": null,
   "metadata": {},
   "outputs": [],
   "source": [
    "sb_count = sb_groupby.count()\n",
    "sb_df = pd.DataFrame(sb_count['Brand']).reset_index()"
   ]
  },
  {
   "cell_type": "code",
   "execution_count": null,
   "metadata": {},
   "outputs": [],
   "source": [
    "# Final Starbucks Dependents\n",
    "sb_df"
   ]
  },
  {
   "cell_type": "code",
   "execution_count": null,
   "metadata": {},
   "outputs": [],
   "source": []
  }
 ],
 "metadata": {
  "kernelspec": {
   "display_name": "Python 3",
   "language": "python",
   "name": "python3"
  },
  "language_info": {
   "codemirror_mode": {
    "name": "ipython",
    "version": 3
   },
   "file_extension": ".py",
   "mimetype": "text/x-python",
   "name": "python",
   "nbconvert_exporter": "python",
   "pygments_lexer": "ipython3",
   "version": "3.8.3"
  }
 },
 "nbformat": 4,
 "nbformat_minor": 4
}
