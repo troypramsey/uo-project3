{
 "cells": [
  {
   "cell_type": "markdown",
   "metadata": {
    "slideshow": {
     "slide_type": "slide"
    }
   },
   "source": [
    "# Gentrification And Commercial Decisions: \n",
    "### Can We Predict Starbucks/Walmart Location Counts Using Gentrification Markers?"
   ]
  },
  {
   "cell_type": "markdown",
   "metadata": {
    "slideshow": {
     "slide_type": "skip"
    }
   },
   "source": [
    "##### Our Gentrification Metrics\n",
    "We developed three metrics for building our model features: \n",
    "- change in median household income\n",
    "- change in median home values\n",
    "- change in the percentage of the population possessing a bachelors degree or higher\n",
    "    \n",
    "These are the variables used by the Harvard Kennedy School Ash Center, which has been developing metrics for measuring gentrification since 2013. The US Census ACS5 API can call each of these metrics, enabling us to find change over time. However, because we don't have data on when each of these locations opened, we thought looking at longitudinal change over time may show more patterns in our data, rather than a single snapshot in time.\n",
    "    \n",
    "##### Why Starbucks? Why Walmart?\n",
    "Our own assumptions and biases, especially in a nationally recognized zone of significant gentrification (the Portland area), were the basis for choosing our dependent variable locations.\n",
    "    \n",
    "##### How did we handle missing data?\n",
    "The average amount of NaN values in each feature was between 3%-5%, a value which we thought was within the acceptable range to minimize skew.\n",
    "    \n",
    "##### What were our findings?\n",
    "Overall, we see little to no correlation between gentrification markers between 2011-2018 and the number of each dependent store. Walmarts can be predicted a little better than Starbucks, but we don't believe either company heavily utilized these metrics in deciding on opening new locations based on our data. We cannot fully assume this, however, due to the discussed weak areas in our data discussed below.\n",
    "    \n",
    "##### What were the weak points in our data?\n",
    "- We did not possess any data on when new locations were opened for each of these locations, which means that many of them existed prior to the calculation of our gentrification variables. This also illustrates that the inverse hypothesis does not hold true, as gentrification does not appear to occur in any easily predictable measure in areas that already may have Starbucks or Walmart locations from before our data collection.\n",
    "- Our dataset was limited to 2011 and onwards, as many of these measures were not available in previous estimate datasets.\n",
    "- Our own biases in the Portland area assumed more mixed-use neighborhood distribution across the country. We assume that zipcodes with the highest gentrification markers are most likely residential-only areas that may not have any commercial operations within their boundaries."
   ]
  },
  {
   "cell_type": "markdown",
   "metadata": {
    "slideshow": {
     "slide_type": "slide"
    }
   },
   "source": [
    "# DATA CLEANING"
   ]
  },
  {
   "cell_type": "code",
   "execution_count": 1,
   "metadata": {
    "slideshow": {
     "slide_type": "skip"
    }
   },
   "outputs": [],
   "source": [
    "# dependencies\n",
    "import pandas as pd\n",
    "import numpy as np\n",
    "from matplotlib.pyplot import plot as plt\n",
    "from census import Census\n",
    "from us import states\n",
    "import seaborn as sns\n",
    "\n",
    "# census API key\n",
    "from config import api_key"
   ]
  },
  {
   "cell_type": "markdown",
   "metadata": {
    "slideshow": {
     "slide_type": "skip"
    }
   },
   "source": [
    "### 2011 Census Call"
   ]
  },
  {
   "cell_type": "code",
   "execution_count": 2,
   "metadata": {
    "slideshow": {
     "slide_type": "subslide"
    }
   },
   "outputs": [],
   "source": [
    "# Saving variables for readability\n",
    "mhi = 'B19013_001E'\n",
    "mhv = 'B25077_001E'\n",
    "wbd = 'B99151_001E'\n",
    "\n",
    "# Instantiating census object\n",
    "c = Census(api_key, year=2011)"
   ]
  },
  {
   "cell_type": "code",
   "execution_count": 3,
   "metadata": {
    "slideshow": {
     "slide_type": "subslide"
    }
   },
   "outputs": [],
   "source": [
    "# Creating DFs for each variable so as to have access to all zipcodes\n",
    "income_df = pd.DataFrame(c.acs5.zipcode(mhi, Census.ALL))\n",
    "housing_df = pd.DataFrame(c.acs5.zipcode(mhv, Census.ALL))\n",
    "bachelors_df = pd.DataFrame(c.acs5.zipcode(wbd, Census.ALL))\n",
    "total_df = pd.DataFrame(c.acs5.zipcode('B01003_001E', Census.ALL))\n",
    "\n",
    "# Merging DFs on zipcodes\n",
    "df11 = income_df.merge(housing_df, on='zip code tabulation area')\n",
    "df11 = df11.merge(bachelors_df, on='zip code tabulation area')\n",
    "df11 = df11.merge(total_df, on='zip code tabulation area')\n",
    "\n",
    "# Renaming columns\n",
    "df11 = df11.rename(columns={'B19013_001E': 'Median Household Income', 'zip code tabulation area': 'Zip', 'B25077_001E': 'Median Home Value', 'B01003_001E': 'Total Population', 'B99151_001E': 'Have Bachelors+'})\n",
    "\n",
    "# Creating column to measure % of individuals with a bachelors degree or higher\n",
    "# df11['% Bachelors+'] = round(df11['Have Bachelors+']/df11['Total Population'] * 100, 2)\n",
    "\n",
    "# Reorganizing columns\n",
    "df11 = df11[['Zip', 'Median Household Income', 'Median Home Value', 'Have Bachelors+']]"
   ]
  },
  {
   "cell_type": "code",
   "execution_count": 4,
   "metadata": {
    "slideshow": {
     "slide_type": "subslide"
    }
   },
   "outputs": [],
   "source": [
    "# Cleaning up corrupted null values, imputing actual nulls into them\n",
    "df11['Median Household Income'] = [np.nan if i<0 else i for i in df11['Median Household Income']]\n",
    "df11['Median Home Value'] =[np.nan if i<0 else i for i in df11['Median Home Value']]\n",
    "df11['Have Bachelors+'] = [np.nan if i<0 else i for i in df11['Have Bachelors+']]\n",
    "df11['Have Bachelors+'] = [np.nan if np.isinf(i) else i for i in df11['Have Bachelors+']]"
   ]
  },
  {
   "cell_type": "code",
   "execution_count": 5,
   "metadata": {
    "slideshow": {
     "slide_type": "subslide"
    }
   },
   "outputs": [],
   "source": [
    "# Replacing null values with the mean of each column\n",
    "df11['Median Household Income'] = df11['Median Household Income'].fillna(df11['Median Household Income'].mean())\n",
    "df11['Median Home Value'] = df11['Median Home Value'].fillna(df11['Median Home Value'].mean())\n",
    "df11['Have Bachelors+'] = df11['Have Bachelors+'].fillna(df11['Have Bachelors+'].mean())"
   ]
  },
  {
   "cell_type": "code",
   "execution_count": 6,
   "metadata": {
    "slideshow": {
     "slide_type": "skip"
    }
   },
   "outputs": [
    {
     "name": "stdout",
     "output_type": "stream",
     "text": [
      "<class 'pandas.core.frame.DataFrame'>\n",
      "Int64Index: 33120 entries, 0 to 33119\n",
      "Data columns (total 4 columns):\n",
      " #   Column                   Non-Null Count  Dtype  \n",
      "---  ------                   --------------  -----  \n",
      " 0   Zip                      33120 non-null  object \n",
      " 1   Median Household Income  33120 non-null  float64\n",
      " 2   Median Home Value        33120 non-null  float64\n",
      " 3   Have Bachelors+          33120 non-null  float64\n",
      "dtypes: float64(3), object(1)\n",
      "memory usage: 1.3+ MB\n"
     ]
    }
   ],
   "source": [
    "# Examining null count\n",
    "df11.info()"
   ]
  },
  {
   "cell_type": "markdown",
   "metadata": {
    "slideshow": {
     "slide_type": "skip"
    }
   },
   "source": [
    "### 2018 Census Call"
   ]
  },
  {
   "cell_type": "code",
   "execution_count": 7,
   "metadata": {
    "slideshow": {
     "slide_type": "skip"
    }
   },
   "outputs": [],
   "source": [
    "c = Census(api_key, year=2018)"
   ]
  },
  {
   "cell_type": "code",
   "execution_count": 8,
   "metadata": {
    "slideshow": {
     "slide_type": "skip"
    }
   },
   "outputs": [],
   "source": [
    "# Creating DFs for each variable so as to have access to all zipcodes\n",
    "income_df = pd.DataFrame(c.acs5.zipcode(mhi, Census.ALL))\n",
    "housing_df = pd.DataFrame(c.acs5.zipcode(mhv, Census.ALL))\n",
    "bachelors_df = pd.DataFrame(c.acs5.zipcode(wbd, Census.ALL))\n",
    "total_df = pd.DataFrame(c.acs5.zipcode('B01003_001E', Census.ALL))\n",
    "\n",
    "# Merging DFs on zipcodes\n",
    "df18 = income_df.merge(housing_df, on='zip code tabulation area')\n",
    "df18 = df18.merge(bachelors_df, on='zip code tabulation area')\n",
    "df18 = df18.merge(total_df, on='zip code tabulation area')\n",
    "\n",
    "# Renaming columns\n",
    "df18 = df18.rename(columns={'B19013_001E': 'Median Household Income', 'zip code tabulation area': 'Zip', 'B25077_001E': 'Median Home Value', 'B01003_001E': 'Total Population', 'B99151_001E': 'Have Bachelors+'})\n",
    "\n",
    "# Creating column to measure % of individuals with a bachelors degree or higher\n",
    "# df18['% Bachelors+'] = round(df18['Have Bachelors+']/df18['Total Population'] * 100, 2)\n",
    "\n",
    "# Reorganizing columns\n",
    "df_nc = df18[['Zip', 'Total Population', 'Median Household Income', 'Median Home Value', 'Have Bachelors+']]\n",
    "df18 = df18[['Zip', 'Median Household Income', 'Median Home Value', 'Have Bachelors+']]"
   ]
  },
  {
   "cell_type": "code",
   "execution_count": 9,
   "metadata": {
    "slideshow": {
     "slide_type": "skip"
    }
   },
   "outputs": [],
   "source": [
    "# Cleaning up corrupted null values, imputing actual nulls into them\n",
    "df18['Median Household Income'] = [np.nan if i<0 else i for i in df18['Median Household Income']]\n",
    "df18['Median Home Value'] =[np.nan if i<0 else i for i in df18['Median Home Value']]\n",
    "df18['Have Bachelors+'] = [np.nan if i<0 else i for i in df18['Have Bachelors+']]\n",
    "df18['Have Bachelors+'] = [np.nan if np.isinf(i) else i for i in df18['Have Bachelors+']]"
   ]
  },
  {
   "cell_type": "code",
   "execution_count": 10,
   "metadata": {
    "slideshow": {
     "slide_type": "skip"
    }
   },
   "outputs": [],
   "source": [
    "# Replacing null values with the mean of each column\n",
    "df18['Median Household Income'] = df18['Median Household Income'].fillna(df18['Median Household Income'].mean())\n",
    "df18['Median Home Value'] = df18['Median Home Value'].fillna(df18['Median Home Value'].mean())\n",
    "df18['Have Bachelors+'] = df18['Have Bachelors+'].fillna(df18['Have Bachelors+'].mean())"
   ]
  },
  {
   "cell_type": "code",
   "execution_count": 11,
   "metadata": {
    "slideshow": {
     "slide_type": "skip"
    }
   },
   "outputs": [
    {
     "name": "stdout",
     "output_type": "stream",
     "text": [
      "<class 'pandas.core.frame.DataFrame'>\n",
      "Int64Index: 33120 entries, 0 to 33119\n",
      "Data columns (total 4 columns):\n",
      " #   Column                   Non-Null Count  Dtype  \n",
      "---  ------                   --------------  -----  \n",
      " 0   Zip                      33120 non-null  object \n",
      " 1   Median Household Income  33120 non-null  float64\n",
      " 2   Median Home Value        33120 non-null  float64\n",
      " 3   Have Bachelors+          33120 non-null  float64\n",
      "dtypes: float64(3), object(1)\n",
      "memory usage: 1.3+ MB\n"
     ]
    }
   ],
   "source": [
    "# Examining null count\n",
    "df18.info()"
   ]
  },
  {
   "cell_type": "markdown",
   "metadata": {
    "slideshow": {
     "slide_type": "slide"
    }
   },
   "source": [
    "### Combining 2011 and 2018 data to get change values"
   ]
  },
  {
   "cell_type": "code",
   "execution_count": 12,
   "metadata": {
    "slideshow": {
     "slide_type": "subslide"
    }
   },
   "outputs": [
    {
     "data": {
      "text/html": [
       "<div>\n",
       "<style scoped>\n",
       "    .dataframe tbody tr th:only-of-type {\n",
       "        vertical-align: middle;\n",
       "    }\n",
       "\n",
       "    .dataframe tbody tr th {\n",
       "        vertical-align: top;\n",
       "    }\n",
       "\n",
       "    .dataframe thead th {\n",
       "        text-align: right;\n",
       "    }\n",
       "</style>\n",
       "<table border=\"1\" class=\"dataframe\">\n",
       "  <thead>\n",
       "    <tr style=\"text-align: right;\">\n",
       "      <th></th>\n",
       "      <th>Zip</th>\n",
       "      <th>Median Household Income_x</th>\n",
       "      <th>Median Home Value_x</th>\n",
       "      <th>Have Bachelors+_x</th>\n",
       "      <th>Median Household Income_y</th>\n",
       "      <th>Median Home Value_y</th>\n",
       "      <th>Have Bachelors+_y</th>\n",
       "    </tr>\n",
       "  </thead>\n",
       "  <tbody>\n",
       "    <tr>\n",
       "      <th>0</th>\n",
       "      <td>00601</td>\n",
       "      <td>13318.0</td>\n",
       "      <td>103200.0</td>\n",
       "      <td>11724.0</td>\n",
       "      <td>13092.000000</td>\n",
       "      <td>86200.00000</td>\n",
       "      <td>11838.0</td>\n",
       "    </tr>\n",
       "    <tr>\n",
       "      <th>1</th>\n",
       "      <td>00602</td>\n",
       "      <td>14947.0</td>\n",
       "      <td>89300.0</td>\n",
       "      <td>27432.0</td>\n",
       "      <td>16358.000000</td>\n",
       "      <td>86300.00000</td>\n",
       "      <td>27411.0</td>\n",
       "    </tr>\n",
       "    <tr>\n",
       "      <th>2</th>\n",
       "      <td>00603</td>\n",
       "      <td>14437.0</td>\n",
       "      <td>116700.0</td>\n",
       "      <td>36436.0</td>\n",
       "      <td>16603.000000</td>\n",
       "      <td>122400.00000</td>\n",
       "      <td>34274.0</td>\n",
       "    </tr>\n",
       "    <tr>\n",
       "      <th>3</th>\n",
       "      <td>00606</td>\n",
       "      <td>11155.0</td>\n",
       "      <td>101000.0</td>\n",
       "      <td>4038.0</td>\n",
       "      <td>12832.000000</td>\n",
       "      <td>91600.00000</td>\n",
       "      <td>4516.0</td>\n",
       "    </tr>\n",
       "    <tr>\n",
       "      <th>4</th>\n",
       "      <td>00610</td>\n",
       "      <td>16367.0</td>\n",
       "      <td>109400.0</td>\n",
       "      <td>19302.0</td>\n",
       "      <td>19309.000000</td>\n",
       "      <td>88600.00000</td>\n",
       "      <td>19164.0</td>\n",
       "    </tr>\n",
       "    <tr>\n",
       "      <th>...</th>\n",
       "      <td>...</td>\n",
       "      <td>...</td>\n",
       "      <td>...</td>\n",
       "      <td>...</td>\n",
       "      <td>...</td>\n",
       "      <td>...</td>\n",
       "      <td>...</td>\n",
       "    </tr>\n",
       "    <tr>\n",
       "      <th>33115</th>\n",
       "      <td>99923</td>\n",
       "      <td>27500.0</td>\n",
       "      <td>108300.0</td>\n",
       "      <td>77.0</td>\n",
       "      <td>59031.427924</td>\n",
       "      <td>194562.64461</td>\n",
       "      <td>15.0</td>\n",
       "    </tr>\n",
       "    <tr>\n",
       "      <th>33116</th>\n",
       "      <td>99925</td>\n",
       "      <td>43125.0</td>\n",
       "      <td>164400.0</td>\n",
       "      <td>525.0</td>\n",
       "      <td>57375.000000</td>\n",
       "      <td>174500.00000</td>\n",
       "      <td>643.0</td>\n",
       "    </tr>\n",
       "    <tr>\n",
       "      <th>33117</th>\n",
       "      <td>99926</td>\n",
       "      <td>45216.0</td>\n",
       "      <td>101100.0</td>\n",
       "      <td>919.0</td>\n",
       "      <td>53409.000000</td>\n",
       "      <td>143100.00000</td>\n",
       "      <td>1019.0</td>\n",
       "    </tr>\n",
       "    <tr>\n",
       "      <th>33118</th>\n",
       "      <td>99927</td>\n",
       "      <td>17639.0</td>\n",
       "      <td>123800.0</td>\n",
       "      <td>67.0</td>\n",
       "      <td>59031.427924</td>\n",
       "      <td>272500.00000</td>\n",
       "      <td>38.0</td>\n",
       "    </tr>\n",
       "    <tr>\n",
       "      <th>33119</th>\n",
       "      <td>99929</td>\n",
       "      <td>50286.0</td>\n",
       "      <td>169600.0</td>\n",
       "      <td>1582.0</td>\n",
       "      <td>57583.000000</td>\n",
       "      <td>212600.00000</td>\n",
       "      <td>1875.0</td>\n",
       "    </tr>\n",
       "  </tbody>\n",
       "</table>\n",
       "<p>33120 rows × 7 columns</p>\n",
       "</div>"
      ],
      "text/plain": [
       "         Zip  Median Household Income_x  Median Home Value_x  \\\n",
       "0      00601                    13318.0             103200.0   \n",
       "1      00602                    14947.0              89300.0   \n",
       "2      00603                    14437.0             116700.0   \n",
       "3      00606                    11155.0             101000.0   \n",
       "4      00610                    16367.0             109400.0   \n",
       "...      ...                        ...                  ...   \n",
       "33115  99923                    27500.0             108300.0   \n",
       "33116  99925                    43125.0             164400.0   \n",
       "33117  99926                    45216.0             101100.0   \n",
       "33118  99927                    17639.0             123800.0   \n",
       "33119  99929                    50286.0             169600.0   \n",
       "\n",
       "       Have Bachelors+_x  Median Household Income_y  Median Home Value_y  \\\n",
       "0                11724.0               13092.000000          86200.00000   \n",
       "1                27432.0               16358.000000          86300.00000   \n",
       "2                36436.0               16603.000000         122400.00000   \n",
       "3                 4038.0               12832.000000          91600.00000   \n",
       "4                19302.0               19309.000000          88600.00000   \n",
       "...                  ...                        ...                  ...   \n",
       "33115               77.0               59031.427924         194562.64461   \n",
       "33116              525.0               57375.000000         174500.00000   \n",
       "33117              919.0               53409.000000         143100.00000   \n",
       "33118               67.0               59031.427924         272500.00000   \n",
       "33119             1582.0               57583.000000         212600.00000   \n",
       "\n",
       "       Have Bachelors+_y  \n",
       "0                11838.0  \n",
       "1                27411.0  \n",
       "2                34274.0  \n",
       "3                 4516.0  \n",
       "4                19164.0  \n",
       "...                  ...  \n",
       "33115               15.0  \n",
       "33116              643.0  \n",
       "33117             1019.0  \n",
       "33118               38.0  \n",
       "33119             1875.0  \n",
       "\n",
       "[33120 rows x 7 columns]"
      ]
     },
     "execution_count": 12,
     "metadata": {},
     "output_type": "execute_result"
    }
   ],
   "source": [
    "# Combining 2011 and 2018 DataFrames\n",
    "df_combined = df11.merge(df18, on='Zip')\n",
    "df_combined"
   ]
  },
  {
   "cell_type": "code",
   "execution_count": 13,
   "metadata": {
    "slideshow": {
     "slide_type": "skip"
    }
   },
   "outputs": [],
   "source": [
    "# Creating columns showing change in year range\n",
    "# Creating columns showing change in year range\n",
    "df_combined['Household Income Change'] = (df_combined['Median Household Income_y'] - df_combined['Median Household Income_x']) / df_combined['Median Household Income_x']\n",
    "df_combined['Median Home Value Change'] = (df_combined['Median Home Value_y'] - df_combined['Median Home Value_x']) / df_combined['Median Home Value_x']\n",
    "df_combined['% Bachelors+ Change'] = (df_combined['Have Bachelors+_y'] - df_combined['Have Bachelors+_x']) / df_combined['Have Bachelors+_x']"
   ]
  },
  {
   "cell_type": "code",
   "execution_count": 14,
   "metadata": {
    "slideshow": {
     "slide_type": "skip"
    }
   },
   "outputs": [],
   "source": [
    "# Creating final dataframe using relevant columns\n",
    "df_change = df_combined[['Zip', 'Household Income Change', 'Median Home Value Change', '% Bachelors+ Change']]"
   ]
  },
  {
   "cell_type": "code",
   "execution_count": 15,
   "metadata": {
    "slideshow": {
     "slide_type": "skip"
    }
   },
   "outputs": [
    {
     "name": "stderr",
     "output_type": "stream",
     "text": [
      "/Users/troyramsey/opt/anaconda3/envs/UODataClass/lib/python3.6/site-packages/ipykernel_launcher.py:1: SettingWithCopyWarning: \n",
      "A value is trying to be set on a copy of a slice from a DataFrame.\n",
      "Try using .loc[row_indexer,col_indexer] = value instead\n",
      "\n",
      "See the caveats in the documentation: https://pandas.pydata.org/pandas-docs/stable/user_guide/indexing.html#returning-a-view-versus-a-copy\n",
      "  \"\"\"Entry point for launching an IPython kernel.\n"
     ]
    }
   ],
   "source": [
    "df_change['Zip'] = df_change['Zip'].astype('int64')"
   ]
  },
  {
   "cell_type": "code",
   "execution_count": 16,
   "metadata": {
    "slideshow": {
     "slide_type": "subslide"
    }
   },
   "outputs": [
    {
     "data": {
      "text/html": [
       "<div>\n",
       "<style scoped>\n",
       "    .dataframe tbody tr th:only-of-type {\n",
       "        vertical-align: middle;\n",
       "    }\n",
       "\n",
       "    .dataframe tbody tr th {\n",
       "        vertical-align: top;\n",
       "    }\n",
       "\n",
       "    .dataframe thead th {\n",
       "        text-align: right;\n",
       "    }\n",
       "</style>\n",
       "<table border=\"1\" class=\"dataframe\">\n",
       "  <thead>\n",
       "    <tr style=\"text-align: right;\">\n",
       "      <th></th>\n",
       "      <th>Zip</th>\n",
       "      <th>Household Income Change</th>\n",
       "      <th>Median Home Value Change</th>\n",
       "      <th>% Bachelors+ Change</th>\n",
       "    </tr>\n",
       "  </thead>\n",
       "  <tbody>\n",
       "    <tr>\n",
       "      <th>0</th>\n",
       "      <td>601</td>\n",
       "      <td>-0.016970</td>\n",
       "      <td>-0.164729</td>\n",
       "      <td>0.009724</td>\n",
       "    </tr>\n",
       "    <tr>\n",
       "      <th>1</th>\n",
       "      <td>602</td>\n",
       "      <td>0.094400</td>\n",
       "      <td>-0.033595</td>\n",
       "      <td>-0.000766</td>\n",
       "    </tr>\n",
       "    <tr>\n",
       "      <th>2</th>\n",
       "      <td>603</td>\n",
       "      <td>0.150031</td>\n",
       "      <td>0.048843</td>\n",
       "      <td>-0.059337</td>\n",
       "    </tr>\n",
       "    <tr>\n",
       "      <th>3</th>\n",
       "      <td>606</td>\n",
       "      <td>0.150336</td>\n",
       "      <td>-0.093069</td>\n",
       "      <td>0.118375</td>\n",
       "    </tr>\n",
       "    <tr>\n",
       "      <th>4</th>\n",
       "      <td>610</td>\n",
       "      <td>0.179752</td>\n",
       "      <td>-0.190128</td>\n",
       "      <td>-0.007150</td>\n",
       "    </tr>\n",
       "    <tr>\n",
       "      <th>...</th>\n",
       "      <td>...</td>\n",
       "      <td>...</td>\n",
       "      <td>...</td>\n",
       "      <td>...</td>\n",
       "    </tr>\n",
       "    <tr>\n",
       "      <th>33115</th>\n",
       "      <td>99923</td>\n",
       "      <td>1.146597</td>\n",
       "      <td>0.796516</td>\n",
       "      <td>-0.805195</td>\n",
       "    </tr>\n",
       "    <tr>\n",
       "      <th>33116</th>\n",
       "      <td>99925</td>\n",
       "      <td>0.330435</td>\n",
       "      <td>0.061436</td>\n",
       "      <td>0.224762</td>\n",
       "    </tr>\n",
       "    <tr>\n",
       "      <th>33117</th>\n",
       "      <td>99926</td>\n",
       "      <td>0.181197</td>\n",
       "      <td>0.415430</td>\n",
       "      <td>0.108814</td>\n",
       "    </tr>\n",
       "    <tr>\n",
       "      <th>33118</th>\n",
       "      <td>99927</td>\n",
       "      <td>2.346643</td>\n",
       "      <td>1.201131</td>\n",
       "      <td>-0.432836</td>\n",
       "    </tr>\n",
       "    <tr>\n",
       "      <th>33119</th>\n",
       "      <td>99929</td>\n",
       "      <td>0.145110</td>\n",
       "      <td>0.253538</td>\n",
       "      <td>0.185209</td>\n",
       "    </tr>\n",
       "  </tbody>\n",
       "</table>\n",
       "<p>33120 rows × 4 columns</p>\n",
       "</div>"
      ],
      "text/plain": [
       "         Zip  Household Income Change  Median Home Value Change  \\\n",
       "0        601                -0.016970                 -0.164729   \n",
       "1        602                 0.094400                 -0.033595   \n",
       "2        603                 0.150031                  0.048843   \n",
       "3        606                 0.150336                 -0.093069   \n",
       "4        610                 0.179752                 -0.190128   \n",
       "...      ...                      ...                       ...   \n",
       "33115  99923                 1.146597                  0.796516   \n",
       "33116  99925                 0.330435                  0.061436   \n",
       "33117  99926                 0.181197                  0.415430   \n",
       "33118  99927                 2.346643                  1.201131   \n",
       "33119  99929                 0.145110                  0.253538   \n",
       "\n",
       "       % Bachelors+ Change  \n",
       "0                 0.009724  \n",
       "1                -0.000766  \n",
       "2                -0.059337  \n",
       "3                 0.118375  \n",
       "4                -0.007150  \n",
       "...                    ...  \n",
       "33115            -0.805195  \n",
       "33116             0.224762  \n",
       "33117             0.108814  \n",
       "33118            -0.432836  \n",
       "33119             0.185209  \n",
       "\n",
       "[33120 rows x 4 columns]"
      ]
     },
     "execution_count": 16,
     "metadata": {},
     "output_type": "execute_result"
    }
   ],
   "source": [
    "df_change"
   ]
  },
  {
   "cell_type": "markdown",
   "metadata": {
    "slideshow": {
     "slide_type": "slide"
    }
   },
   "source": [
    "### Starbucks Data"
   ]
  },
  {
   "cell_type": "code",
   "execution_count": 17,
   "metadata": {
    "slideshow": {
     "slide_type": "skip"
    }
   },
   "outputs": [
    {
     "data": {
      "text/html": [
       "<div class='tableauPlaceholder' id='viz1607403574641' style='position: relative'><noscript><a href='#'><img alt=' ' src='https:&#47;&#47;public.tableau.com&#47;static&#47;images&#47;ch&#47;chnage11-18&#47;Dashboard1&#47;1_rss.png' style='border: none' /></a></noscript><object class='tableauViz'  style='display:none;'><param name='host_url' value='https%3A%2F%2Fpublic.tableau.com%2F' /> <param name='embed_code_version' value='3' /> <param name='site_root' value='' /><param name='name' value='chnage11-18&#47;Dashboard1' /><param name='tabs' value='no' /><param name='toolbar' value='yes' /><param name='static_image' value='https:&#47;&#47;public.tableau.com&#47;static&#47;images&#47;ch&#47;chnage11-18&#47;Dashboard1&#47;1.png' /> <param name='animate_transition' value='yes' /><param name='display_static_image' value='yes' /><param name='display_spinner' value='yes' /><param name='display_overlay' value='yes' /><param name='display_count' value='yes' /><param name='language' value='en' /></object></div>                <script type='text/javascript'>                    var divElement = document.getElementById('viz1607403574641');                    var vizElement = divElement.getElementsByTagName('object')[0];                    if ( divElement.offsetWidth > 800 ) { vizElement.style.width='1220px';vizElement.style.minHeight='587px';vizElement.style.maxHeight='887px';vizElement.style.height=(divElement.offsetWidth*0.75)+'px';} else if ( divElement.offsetWidth > 500 ) { vizElement.style.width='1220px';vizElement.style.minHeight='587px';vizElement.style.maxHeight='887px';vizElement.style.height=(divElement.offsetWidth*0.75)+'px';} else { vizElement.style.width='100%';vizElement.style.height='1427px';}                     var scriptElement = document.createElement('script');                    scriptElement.src = 'https://public.tableau.com/javascripts/api/viz_v1.js';                    vizElement.parentNode.insertBefore(scriptElement, vizElement);                </script>\n"
      ],
      "text/plain": [
       "<IPython.core.display.HTML object>"
      ]
     },
     "metadata": {},
     "output_type": "display_data"
    }
   ],
   "source": [
    "%%html\n",
    "<div class='tableauPlaceholder' id='viz1607403574641' style='position: relative'><noscript><a href='#'><img alt=' ' src='https:&#47;&#47;public.tableau.com&#47;static&#47;images&#47;ch&#47;chnage11-18&#47;Dashboard1&#47;1_rss.png' style='border: none' /></a></noscript><object class='tableauViz'  style='display:none;'><param name='host_url' value='https%3A%2F%2Fpublic.tableau.com%2F' /> <param name='embed_code_version' value='3' /> <param name='site_root' value='' /><param name='name' value='chnage11-18&#47;Dashboard1' /><param name='tabs' value='no' /><param name='toolbar' value='yes' /><param name='static_image' value='https:&#47;&#47;public.tableau.com&#47;static&#47;images&#47;ch&#47;chnage11-18&#47;Dashboard1&#47;1.png' /> <param name='animate_transition' value='yes' /><param name='display_static_image' value='yes' /><param name='display_spinner' value='yes' /><param name='display_overlay' value='yes' /><param name='display_count' value='yes' /><param name='language' value='en' /></object></div>                <script type='text/javascript'>                    var divElement = document.getElementById('viz1607403574641');                    var vizElement = divElement.getElementsByTagName('object')[0];                    if ( divElement.offsetWidth > 800 ) { vizElement.style.width='1220px';vizElement.style.minHeight='587px';vizElement.style.maxHeight='887px';vizElement.style.height=(divElement.offsetWidth*0.75)+'px';} else if ( divElement.offsetWidth > 500 ) { vizElement.style.width='1220px';vizElement.style.minHeight='587px';vizElement.style.maxHeight='887px';vizElement.style.height=(divElement.offsetWidth*0.75)+'px';} else { vizElement.style.width='100%';vizElement.style.height='1427px';}                     var scriptElement = document.createElement('script');                    scriptElement.src = 'https://public.tableau.com/javascripts/api/viz_v1.js';                    vizElement.parentNode.insertBefore(scriptElement, vizElement);                </script>"
   ]
  },
  {
   "cell_type": "code",
   "execution_count": 18,
   "metadata": {
    "slideshow": {
     "slide_type": "skip"
    }
   },
   "outputs": [],
   "source": [
    "# Read in data\n",
    "sb_data = pd.read_csv('data_exploration/data/directory.csv')"
   ]
  },
  {
   "cell_type": "code",
   "execution_count": 19,
   "metadata": {
    "slideshow": {
     "slide_type": "skip"
    }
   },
   "outputs": [
    {
     "data": {
      "text/plain": [
       "Company Owned    8226\n",
       "Licensed         5382\n",
       "Name: Ownership Type, dtype: int64"
      ]
     },
     "execution_count": 19,
     "metadata": {},
     "output_type": "execute_result"
    }
   ],
   "source": [
    "# Count how many US stores exist by their ownership type\n",
    "sb_data.loc[sb_data['Country'] == 'US']['Ownership Type'].value_counts()"
   ]
  },
  {
   "cell_type": "code",
   "execution_count": 20,
   "metadata": {
    "slideshow": {
     "slide_type": "subslide"
    }
   },
   "outputs": [
    {
     "data": {
      "text/html": [
       "<div>\n",
       "<style scoped>\n",
       "    .dataframe tbody tr th:only-of-type {\n",
       "        vertical-align: middle;\n",
       "    }\n",
       "\n",
       "    .dataframe tbody tr th {\n",
       "        vertical-align: top;\n",
       "    }\n",
       "\n",
       "    .dataframe thead th {\n",
       "        text-align: right;\n",
       "    }\n",
       "</style>\n",
       "<table border=\"1\" class=\"dataframe\">\n",
       "  <thead>\n",
       "    <tr style=\"text-align: right;\">\n",
       "      <th></th>\n",
       "      <th>Brand</th>\n",
       "      <th>Store Number</th>\n",
       "      <th>Store Name</th>\n",
       "      <th>Ownership Type</th>\n",
       "      <th>Street Address</th>\n",
       "      <th>City</th>\n",
       "      <th>State/Province</th>\n",
       "      <th>Country</th>\n",
       "      <th>Postcode</th>\n",
       "      <th>Phone Number</th>\n",
       "      <th>Timezone</th>\n",
       "      <th>Longitude</th>\n",
       "      <th>Latitude</th>\n",
       "    </tr>\n",
       "  </thead>\n",
       "  <tbody>\n",
       "    <tr>\n",
       "      <th>11964</th>\n",
       "      <td>Starbucks</td>\n",
       "      <td>3513-125945</td>\n",
       "      <td>Safeway-Anchorage #1809</td>\n",
       "      <td>Licensed</td>\n",
       "      <td>5600 Debarr Rd Ste 9</td>\n",
       "      <td>Anchorage</td>\n",
       "      <td>AK</td>\n",
       "      <td>US</td>\n",
       "      <td>995042300</td>\n",
       "      <td>907-339-0900</td>\n",
       "      <td>GMT-09:00 America/Anchorage</td>\n",
       "      <td>-149.78</td>\n",
       "      <td>61.21</td>\n",
       "    </tr>\n",
       "    <tr>\n",
       "      <th>11965</th>\n",
       "      <td>Starbucks</td>\n",
       "      <td>74352-84449</td>\n",
       "      <td>Safeway-Anchorage #2628</td>\n",
       "      <td>Licensed</td>\n",
       "      <td>1725 Abbott Rd</td>\n",
       "      <td>Anchorage</td>\n",
       "      <td>AK</td>\n",
       "      <td>US</td>\n",
       "      <td>995073444</td>\n",
       "      <td>907-339-2800</td>\n",
       "      <td>GMT-09:00 America/Anchorage</td>\n",
       "      <td>-149.84</td>\n",
       "      <td>61.14</td>\n",
       "    </tr>\n",
       "    <tr>\n",
       "      <th>11966</th>\n",
       "      <td>Starbucks</td>\n",
       "      <td>12449-152385</td>\n",
       "      <td>Safeway - Anchorage #1813</td>\n",
       "      <td>Licensed</td>\n",
       "      <td>1501 Huffman Rd</td>\n",
       "      <td>Anchorage</td>\n",
       "      <td>AK</td>\n",
       "      <td>US</td>\n",
       "      <td>995153596</td>\n",
       "      <td>907-339-1300</td>\n",
       "      <td>GMT-09:00 America/Anchorage</td>\n",
       "      <td>-149.85</td>\n",
       "      <td>61.11</td>\n",
       "    </tr>\n",
       "    <tr>\n",
       "      <th>11967</th>\n",
       "      <td>Starbucks</td>\n",
       "      <td>24936-233524</td>\n",
       "      <td>100th &amp; C St - Anchorage</td>\n",
       "      <td>Company Owned</td>\n",
       "      <td>320 W. 100th Ave, 100, Southgate Shopping Ctr ...</td>\n",
       "      <td>Anchorage</td>\n",
       "      <td>AK</td>\n",
       "      <td>US</td>\n",
       "      <td>99515</td>\n",
       "      <td>(907) 227-9631</td>\n",
       "      <td>GMT-09:00 America/Anchorage</td>\n",
       "      <td>-149.89</td>\n",
       "      <td>61.13</td>\n",
       "    </tr>\n",
       "    <tr>\n",
       "      <th>11968</th>\n",
       "      <td>Starbucks</td>\n",
       "      <td>8973-85630</td>\n",
       "      <td>Old Seward &amp; Diamond</td>\n",
       "      <td>Company Owned</td>\n",
       "      <td>1005 E Dimond Blvd</td>\n",
       "      <td>Anchorage</td>\n",
       "      <td>AK</td>\n",
       "      <td>US</td>\n",
       "      <td>995152050</td>\n",
       "      <td>907-344-4160</td>\n",
       "      <td>GMT-09:00 America/Anchorage</td>\n",
       "      <td>-149.86</td>\n",
       "      <td>61.14</td>\n",
       "    </tr>\n",
       "    <tr>\n",
       "      <th>...</th>\n",
       "      <td>...</td>\n",
       "      <td>...</td>\n",
       "      <td>...</td>\n",
       "      <td>...</td>\n",
       "      <td>...</td>\n",
       "      <td>...</td>\n",
       "      <td>...</td>\n",
       "      <td>...</td>\n",
       "      <td>...</td>\n",
       "      <td>...</td>\n",
       "      <td>...</td>\n",
       "      <td>...</td>\n",
       "      <td>...</td>\n",
       "    </tr>\n",
       "    <tr>\n",
       "      <th>25567</th>\n",
       "      <td>Starbucks</td>\n",
       "      <td>74385-87621</td>\n",
       "      <td>Safeway-Laramie #2466</td>\n",
       "      <td>Licensed</td>\n",
       "      <td>554 N 3rd St</td>\n",
       "      <td>Laramie</td>\n",
       "      <td>WY</td>\n",
       "      <td>US</td>\n",
       "      <td>820723012</td>\n",
       "      <td>307-721-5107</td>\n",
       "      <td>GMT-07:00 America/Denver</td>\n",
       "      <td>-105.59</td>\n",
       "      <td>41.32</td>\n",
       "    </tr>\n",
       "    <tr>\n",
       "      <th>25568</th>\n",
       "      <td>Starbucks</td>\n",
       "      <td>73320-24375</td>\n",
       "      <td>Ridley's - Laramie #1131</td>\n",
       "      <td>Licensed</td>\n",
       "      <td>3112 E. Grand</td>\n",
       "      <td>Laramie</td>\n",
       "      <td>WY</td>\n",
       "      <td>US</td>\n",
       "      <td>820705141</td>\n",
       "      <td>307-742-8146</td>\n",
       "      <td>GMT-07:00 America/Denver</td>\n",
       "      <td>-105.56</td>\n",
       "      <td>41.31</td>\n",
       "    </tr>\n",
       "    <tr>\n",
       "      <th>25569</th>\n",
       "      <td>Starbucks</td>\n",
       "      <td>22425-219024</td>\n",
       "      <td>Laramie - Grand &amp; 30th</td>\n",
       "      <td>Company Owned</td>\n",
       "      <td>3021 Grand Ave</td>\n",
       "      <td>Laramie</td>\n",
       "      <td>WY</td>\n",
       "      <td>US</td>\n",
       "      <td>82070</td>\n",
       "      <td>307-742-3262</td>\n",
       "      <td>GMT-07:00 America/Denver</td>\n",
       "      <td>-105.56</td>\n",
       "      <td>41.31</td>\n",
       "    </tr>\n",
       "    <tr>\n",
       "      <th>25570</th>\n",
       "      <td>Starbucks</td>\n",
       "      <td>10849-103163</td>\n",
       "      <td>I-80 &amp; Dewar Dr-Rock Springs</td>\n",
       "      <td>Company Owned</td>\n",
       "      <td>118 Westland Way</td>\n",
       "      <td>Rock Springs</td>\n",
       "      <td>WY</td>\n",
       "      <td>US</td>\n",
       "      <td>829015751</td>\n",
       "      <td>307-362-7145</td>\n",
       "      <td>GMT-07:00 America/Denver</td>\n",
       "      <td>-109.25</td>\n",
       "      <td>41.58</td>\n",
       "    </tr>\n",
       "    <tr>\n",
       "      <th>25571</th>\n",
       "      <td>Starbucks</td>\n",
       "      <td>10769-102454</td>\n",
       "      <td>Coffeen &amp; Brundage Lane-Sheridan</td>\n",
       "      <td>Company Owned</td>\n",
       "      <td>2208 Coffeen Ave</td>\n",
       "      <td>Sheridian</td>\n",
       "      <td>WY</td>\n",
       "      <td>US</td>\n",
       "      <td>828016213</td>\n",
       "      <td>307-672-5129</td>\n",
       "      <td>GMT-07:00 America/Denver</td>\n",
       "      <td>-106.94</td>\n",
       "      <td>44.77</td>\n",
       "    </tr>\n",
       "  </tbody>\n",
       "</table>\n",
       "<p>13608 rows × 13 columns</p>\n",
       "</div>"
      ],
      "text/plain": [
       "           Brand  Store Number                        Store Name  \\\n",
       "11964  Starbucks   3513-125945           Safeway-Anchorage #1809   \n",
       "11965  Starbucks   74352-84449           Safeway-Anchorage #2628   \n",
       "11966  Starbucks  12449-152385         Safeway - Anchorage #1813   \n",
       "11967  Starbucks  24936-233524          100th & C St - Anchorage   \n",
       "11968  Starbucks    8973-85630              Old Seward & Diamond   \n",
       "...          ...           ...                               ...   \n",
       "25567  Starbucks   74385-87621             Safeway-Laramie #2466   \n",
       "25568  Starbucks   73320-24375          Ridley's - Laramie #1131   \n",
       "25569  Starbucks  22425-219024            Laramie - Grand & 30th   \n",
       "25570  Starbucks  10849-103163      I-80 & Dewar Dr-Rock Springs   \n",
       "25571  Starbucks  10769-102454  Coffeen & Brundage Lane-Sheridan   \n",
       "\n",
       "      Ownership Type                                     Street Address  \\\n",
       "11964       Licensed                               5600 Debarr Rd Ste 9   \n",
       "11965       Licensed                                     1725 Abbott Rd   \n",
       "11966       Licensed                                    1501 Huffman Rd   \n",
       "11967  Company Owned  320 W. 100th Ave, 100, Southgate Shopping Ctr ...   \n",
       "11968  Company Owned                                 1005 E Dimond Blvd   \n",
       "...              ...                                                ...   \n",
       "25567       Licensed                                       554 N 3rd St   \n",
       "25568       Licensed                                      3112 E. Grand   \n",
       "25569  Company Owned                                     3021 Grand Ave   \n",
       "25570  Company Owned                                   118 Westland Way   \n",
       "25571  Company Owned                                   2208 Coffeen Ave   \n",
       "\n",
       "               City State/Province Country   Postcode    Phone Number  \\\n",
       "11964     Anchorage             AK      US  995042300    907-339-0900   \n",
       "11965     Anchorage             AK      US  995073444    907-339-2800   \n",
       "11966     Anchorage             AK      US  995153596    907-339-1300   \n",
       "11967     Anchorage             AK      US      99515  (907) 227-9631   \n",
       "11968     Anchorage             AK      US  995152050    907-344-4160   \n",
       "...             ...            ...     ...        ...             ...   \n",
       "25567       Laramie             WY      US  820723012    307-721-5107   \n",
       "25568       Laramie             WY      US  820705141    307-742-8146   \n",
       "25569       Laramie             WY      US      82070    307-742-3262   \n",
       "25570  Rock Springs             WY      US  829015751    307-362-7145   \n",
       "25571     Sheridian             WY      US  828016213    307-672-5129   \n",
       "\n",
       "                          Timezone  Longitude  Latitude  \n",
       "11964  GMT-09:00 America/Anchorage    -149.78     61.21  \n",
       "11965  GMT-09:00 America/Anchorage    -149.84     61.14  \n",
       "11966  GMT-09:00 America/Anchorage    -149.85     61.11  \n",
       "11967  GMT-09:00 America/Anchorage    -149.89     61.13  \n",
       "11968  GMT-09:00 America/Anchorage    -149.86     61.14  \n",
       "...                            ...        ...       ...  \n",
       "25567     GMT-07:00 America/Denver    -105.59     41.32  \n",
       "25568     GMT-07:00 America/Denver    -105.56     41.31  \n",
       "25569     GMT-07:00 America/Denver    -105.56     41.31  \n",
       "25570     GMT-07:00 America/Denver    -109.25     41.58  \n",
       "25571     GMT-07:00 America/Denver    -106.94     44.77  \n",
       "\n",
       "[13608 rows x 13 columns]"
      ]
     },
     "execution_count": 20,
     "metadata": {},
     "output_type": "execute_result"
    }
   ],
   "source": [
    "# Exploring US only data\n",
    "sb_data.loc[sb_data['Country'] == 'US']"
   ]
  },
  {
   "cell_type": "code",
   "execution_count": 21,
   "metadata": {
    "slideshow": {
     "slide_type": "skip"
    }
   },
   "outputs": [],
   "source": [
    "# Creating new dataframe with only US data, drop one null zip\n",
    "sb_zeroed = sb_data.loc[sb_data['Country'] == 'US'].dropna()"
   ]
  },
  {
   "cell_type": "code",
   "execution_count": 22,
   "metadata": {
    "slideshow": {
     "slide_type": "skip"
    }
   },
   "outputs": [],
   "source": [
    "# Creates a table of 5-digit zipcodes\n",
    "splits = [int(''.join(str(i).split())[:5]) for i in sb_zeroed['Postcode']]"
   ]
  },
  {
   "cell_type": "code",
   "execution_count": 23,
   "metadata": {
    "slideshow": {
     "slide_type": "skip"
    }
   },
   "outputs": [],
   "source": [
    "# Adds a zip column made up of only the 5-digit zipcodes\n",
    "sb_zeroed['Zip'] = splits"
   ]
  },
  {
   "cell_type": "code",
   "execution_count": 24,
   "metadata": {
    "slideshow": {
     "slide_type": "subslide"
    }
   },
   "outputs": [],
   "source": [
    "# Creating groupby object to count the number of stores in each zipcode\n",
    "sb_groupby = sb_zeroed.groupby('Zip')"
   ]
  },
  {
   "cell_type": "code",
   "execution_count": 25,
   "metadata": {
    "slideshow": {
     "slide_type": "subslide"
    }
   },
   "outputs": [],
   "source": [
    "# Create store count, build new dataframe with the zipcode and a single count\n",
    "sb_count = sb_groupby.count()\n",
    "sb_df = pd.DataFrame(sb_count['Brand']).reset_index()"
   ]
  },
  {
   "cell_type": "code",
   "execution_count": 26,
   "metadata": {
    "slideshow": {
     "slide_type": "subslide"
    }
   },
   "outputs": [],
   "source": [
    "# Merge Starbucks data with Census data\n",
    "df = df_change.merge(sb_df, how='left', on='Zip')"
   ]
  },
  {
   "cell_type": "code",
   "execution_count": 27,
   "metadata": {
    "slideshow": {
     "slide_type": "skip"
    }
   },
   "outputs": [],
   "source": [
    "df = df.fillna(0)"
   ]
  },
  {
   "cell_type": "code",
   "execution_count": 28,
   "metadata": {
    "slideshow": {
     "slide_type": "skip"
    }
   },
   "outputs": [
    {
     "data": {
      "text/html": [
       "<div>\n",
       "<style scoped>\n",
       "    .dataframe tbody tr th:only-of-type {\n",
       "        vertical-align: middle;\n",
       "    }\n",
       "\n",
       "    .dataframe tbody tr th {\n",
       "        vertical-align: top;\n",
       "    }\n",
       "\n",
       "    .dataframe thead th {\n",
       "        text-align: right;\n",
       "    }\n",
       "</style>\n",
       "<table border=\"1\" class=\"dataframe\">\n",
       "  <thead>\n",
       "    <tr style=\"text-align: right;\">\n",
       "      <th></th>\n",
       "      <th>Zip</th>\n",
       "      <th>Household Income Change</th>\n",
       "      <th>Median Home Value Change</th>\n",
       "      <th>% Bachelors+ Change</th>\n",
       "      <th>Brand</th>\n",
       "    </tr>\n",
       "  </thead>\n",
       "  <tbody>\n",
       "    <tr>\n",
       "      <th>0</th>\n",
       "      <td>601</td>\n",
       "      <td>-0.016970</td>\n",
       "      <td>-0.164729</td>\n",
       "      <td>0.009724</td>\n",
       "      <td>0.0</td>\n",
       "    </tr>\n",
       "    <tr>\n",
       "      <th>1</th>\n",
       "      <td>602</td>\n",
       "      <td>0.094400</td>\n",
       "      <td>-0.033595</td>\n",
       "      <td>-0.000766</td>\n",
       "      <td>0.0</td>\n",
       "    </tr>\n",
       "    <tr>\n",
       "      <th>2</th>\n",
       "      <td>603</td>\n",
       "      <td>0.150031</td>\n",
       "      <td>0.048843</td>\n",
       "      <td>-0.059337</td>\n",
       "      <td>0.0</td>\n",
       "    </tr>\n",
       "    <tr>\n",
       "      <th>3</th>\n",
       "      <td>606</td>\n",
       "      <td>0.150336</td>\n",
       "      <td>-0.093069</td>\n",
       "      <td>0.118375</td>\n",
       "      <td>0.0</td>\n",
       "    </tr>\n",
       "    <tr>\n",
       "      <th>4</th>\n",
       "      <td>610</td>\n",
       "      <td>0.179752</td>\n",
       "      <td>-0.190128</td>\n",
       "      <td>-0.007150</td>\n",
       "      <td>0.0</td>\n",
       "    </tr>\n",
       "    <tr>\n",
       "      <th>...</th>\n",
       "      <td>...</td>\n",
       "      <td>...</td>\n",
       "      <td>...</td>\n",
       "      <td>...</td>\n",
       "      <td>...</td>\n",
       "    </tr>\n",
       "    <tr>\n",
       "      <th>33115</th>\n",
       "      <td>99923</td>\n",
       "      <td>1.146597</td>\n",
       "      <td>0.796516</td>\n",
       "      <td>-0.805195</td>\n",
       "      <td>0.0</td>\n",
       "    </tr>\n",
       "    <tr>\n",
       "      <th>33116</th>\n",
       "      <td>99925</td>\n",
       "      <td>0.330435</td>\n",
       "      <td>0.061436</td>\n",
       "      <td>0.224762</td>\n",
       "      <td>0.0</td>\n",
       "    </tr>\n",
       "    <tr>\n",
       "      <th>33117</th>\n",
       "      <td>99926</td>\n",
       "      <td>0.181197</td>\n",
       "      <td>0.415430</td>\n",
       "      <td>0.108814</td>\n",
       "      <td>0.0</td>\n",
       "    </tr>\n",
       "    <tr>\n",
       "      <th>33118</th>\n",
       "      <td>99927</td>\n",
       "      <td>2.346643</td>\n",
       "      <td>1.201131</td>\n",
       "      <td>-0.432836</td>\n",
       "      <td>0.0</td>\n",
       "    </tr>\n",
       "    <tr>\n",
       "      <th>33119</th>\n",
       "      <td>99929</td>\n",
       "      <td>0.145110</td>\n",
       "      <td>0.253538</td>\n",
       "      <td>0.185209</td>\n",
       "      <td>0.0</td>\n",
       "    </tr>\n",
       "  </tbody>\n",
       "</table>\n",
       "<p>33120 rows × 5 columns</p>\n",
       "</div>"
      ],
      "text/plain": [
       "         Zip  Household Income Change  Median Home Value Change  \\\n",
       "0        601                -0.016970                 -0.164729   \n",
       "1        602                 0.094400                 -0.033595   \n",
       "2        603                 0.150031                  0.048843   \n",
       "3        606                 0.150336                 -0.093069   \n",
       "4        610                 0.179752                 -0.190128   \n",
       "...      ...                      ...                       ...   \n",
       "33115  99923                 1.146597                  0.796516   \n",
       "33116  99925                 0.330435                  0.061436   \n",
       "33117  99926                 0.181197                  0.415430   \n",
       "33118  99927                 2.346643                  1.201131   \n",
       "33119  99929                 0.145110                  0.253538   \n",
       "\n",
       "       % Bachelors+ Change  Brand  \n",
       "0                 0.009724    0.0  \n",
       "1                -0.000766    0.0  \n",
       "2                -0.059337    0.0  \n",
       "3                 0.118375    0.0  \n",
       "4                -0.007150    0.0  \n",
       "...                    ...    ...  \n",
       "33115            -0.805195    0.0  \n",
       "33116             0.224762    0.0  \n",
       "33117             0.108814    0.0  \n",
       "33118            -0.432836    0.0  \n",
       "33119             0.185209    0.0  \n",
       "\n",
       "[33120 rows x 5 columns]"
      ]
     },
     "execution_count": 28,
     "metadata": {},
     "output_type": "execute_result"
    }
   ],
   "source": [
    "df"
   ]
  },
  {
   "cell_type": "code",
   "execution_count": 29,
   "metadata": {
    "slideshow": {
     "slide_type": "skip"
    }
   },
   "outputs": [],
   "source": [
    "# Impute null data with zeroes\n",
    "df['Brand'] = df['Brand'].fillna(0)"
   ]
  },
  {
   "cell_type": "code",
   "execution_count": 30,
   "metadata": {
    "slideshow": {
     "slide_type": "skip"
    }
   },
   "outputs": [],
   "source": [
    "# Full dataframe including dependent variable (store count). Incudes Zips without a location.\n",
    "starbucks_df = df.rename(columns={'Brand': 'Store Count'})"
   ]
  },
  {
   "cell_type": "code",
   "execution_count": 31,
   "metadata": {
    "slideshow": {
     "slide_type": "subslide"
    }
   },
   "outputs": [
    {
     "data": {
      "text/html": [
       "<div>\n",
       "<style scoped>\n",
       "    .dataframe tbody tr th:only-of-type {\n",
       "        vertical-align: middle;\n",
       "    }\n",
       "\n",
       "    .dataframe tbody tr th {\n",
       "        vertical-align: top;\n",
       "    }\n",
       "\n",
       "    .dataframe thead th {\n",
       "        text-align: right;\n",
       "    }\n",
       "</style>\n",
       "<table border=\"1\" class=\"dataframe\">\n",
       "  <thead>\n",
       "    <tr style=\"text-align: right;\">\n",
       "      <th></th>\n",
       "      <th>Zip</th>\n",
       "      <th>Household Income Change</th>\n",
       "      <th>Median Home Value Change</th>\n",
       "      <th>% Bachelors+ Change</th>\n",
       "      <th>Brand</th>\n",
       "    </tr>\n",
       "  </thead>\n",
       "  <tbody>\n",
       "    <tr>\n",
       "      <th>30</th>\n",
       "      <td>12866</td>\n",
       "      <td>0.245664</td>\n",
       "      <td>0.250828</td>\n",
       "      <td>0.097164</td>\n",
       "      <td>4.0</td>\n",
       "    </tr>\n",
       "    <tr>\n",
       "      <th>42</th>\n",
       "      <td>12901</td>\n",
       "      <td>0.145176</td>\n",
       "      <td>0.076046</td>\n",
       "      <td>-0.009954</td>\n",
       "      <td>2.0</td>\n",
       "    </tr>\n",
       "    <tr>\n",
       "      <th>75</th>\n",
       "      <td>12946</td>\n",
       "      <td>0.247896</td>\n",
       "      <td>-0.012228</td>\n",
       "      <td>-0.172140</td>\n",
       "      <td>1.0</td>\n",
       "    </tr>\n",
       "    <tr>\n",
       "      <th>122</th>\n",
       "      <td>13032</td>\n",
       "      <td>0.055351</td>\n",
       "      <td>0.244267</td>\n",
       "      <td>-0.091354</td>\n",
       "      <td>1.0</td>\n",
       "    </tr>\n",
       "    <tr>\n",
       "      <th>128</th>\n",
       "      <td>13039</td>\n",
       "      <td>0.220819</td>\n",
       "      <td>0.074422</td>\n",
       "      <td>0.023830</td>\n",
       "      <td>1.0</td>\n",
       "    </tr>\n",
       "    <tr>\n",
       "      <th>...</th>\n",
       "      <td>...</td>\n",
       "      <td>...</td>\n",
       "      <td>...</td>\n",
       "      <td>...</td>\n",
       "      <td>...</td>\n",
       "    </tr>\n",
       "    <tr>\n",
       "      <th>33020</th>\n",
       "      <td>99701</td>\n",
       "      <td>0.129938</td>\n",
       "      <td>0.008086</td>\n",
       "      <td>-0.066228</td>\n",
       "      <td>2.0</td>\n",
       "    </tr>\n",
       "    <tr>\n",
       "      <th>33024</th>\n",
       "      <td>99705</td>\n",
       "      <td>0.017664</td>\n",
       "      <td>0.128167</td>\n",
       "      <td>0.138263</td>\n",
       "      <td>1.0</td>\n",
       "    </tr>\n",
       "    <tr>\n",
       "      <th>33026</th>\n",
       "      <td>99709</td>\n",
       "      <td>0.212635</td>\n",
       "      <td>0.087199</td>\n",
       "      <td>-0.018987</td>\n",
       "      <td>3.0</td>\n",
       "    </tr>\n",
       "    <tr>\n",
       "      <th>33095</th>\n",
       "      <td>99801</td>\n",
       "      <td>0.133143</td>\n",
       "      <td>0.147049</td>\n",
       "      <td>0.072378</td>\n",
       "      <td>2.0</td>\n",
       "    </tr>\n",
       "    <tr>\n",
       "      <th>33109</th>\n",
       "      <td>99901</td>\n",
       "      <td>0.229076</td>\n",
       "      <td>0.068262</td>\n",
       "      <td>0.066726</td>\n",
       "      <td>1.0</td>\n",
       "    </tr>\n",
       "  </tbody>\n",
       "</table>\n",
       "<p>5569 rows × 5 columns</p>\n",
       "</div>"
      ],
      "text/plain": [
       "         Zip  Household Income Change  Median Home Value Change  \\\n",
       "30     12866                 0.245664                  0.250828   \n",
       "42     12901                 0.145176                  0.076046   \n",
       "75     12946                 0.247896                 -0.012228   \n",
       "122    13032                 0.055351                  0.244267   \n",
       "128    13039                 0.220819                  0.074422   \n",
       "...      ...                      ...                       ...   \n",
       "33020  99701                 0.129938                  0.008086   \n",
       "33024  99705                 0.017664                  0.128167   \n",
       "33026  99709                 0.212635                  0.087199   \n",
       "33095  99801                 0.133143                  0.147049   \n",
       "33109  99901                 0.229076                  0.068262   \n",
       "\n",
       "       % Bachelors+ Change  Brand  \n",
       "30                0.097164    4.0  \n",
       "42               -0.009954    2.0  \n",
       "75               -0.172140    1.0  \n",
       "122              -0.091354    1.0  \n",
       "128               0.023830    1.0  \n",
       "...                    ...    ...  \n",
       "33020            -0.066228    2.0  \n",
       "33024             0.138263    1.0  \n",
       "33026            -0.018987    3.0  \n",
       "33095             0.072378    2.0  \n",
       "33109             0.066726    1.0  \n",
       "\n",
       "[5569 rows x 5 columns]"
      ]
     },
     "execution_count": 31,
     "metadata": {},
     "output_type": "execute_result"
    }
   ],
   "source": [
    "# Full dataframe including dependent variable (store count). Does NOT include Zips without a location.\n",
    "starbucks_without = df.loc[starbucks_df['Store Count'] != 0]\n",
    "starbucks_without"
   ]
  },
  {
   "cell_type": "code",
   "execution_count": 32,
   "metadata": {
    "slideshow": {
     "slide_type": "skip"
    }
   },
   "outputs": [],
   "source": [
    "# Send both dataframes to CSV\n",
    "starbucks_df.to_csv('data_exploration/full_us_data.csv')\n",
    "starbucks_without.to_csv('data_exploration/us_data.csv')"
   ]
  },
  {
   "cell_type": "markdown",
   "metadata": {
    "slideshow": {
     "slide_type": "slide"
    }
   },
   "source": [
    "### Walmart Data"
   ]
  },
  {
   "cell_type": "code",
   "execution_count": 33,
   "metadata": {
    "slideshow": {
     "slide_type": "skip"
    }
   },
   "outputs": [
    {
     "data": {
      "text/html": [
       "<div class='tableauPlaceholder' id='viz1607479662223' style='position: relative'><noscript><a href='#'><img alt=' ' src='https:&#47;&#47;public.tableau.com&#47;static&#47;images&#47;Pr&#47;Project3_16069712161590&#47;Dashboard1&#47;1_rss.png' style='border: none' /></a></noscript><object class='tableauViz'  style='display:none;'><param name='host_url' value='https%3A%2F%2Fpublic.tableau.com%2F' /> <param name='embed_code_version' value='3' /> <param name='site_root' value='' /><param name='name' value='Project3_16069712161590&#47;Dashboard1' /><param name='tabs' value='no' /><param name='toolbar' value='yes' /><param name='static_image' value='https:&#47;&#47;public.tableau.com&#47;static&#47;images&#47;Pr&#47;Project3_16069712161590&#47;Dashboard1&#47;1.png' /> <param name='animate_transition' value='yes' /><param name='display_static_image' value='yes' /><param name='display_spinner' value='yes' /><param name='display_overlay' value='yes' /><param name='display_count' value='yes' /><param name='language' value='en' /><param name='filter' value='publish=yes' /></object></div>                <script type='text/javascript'>                    var divElement = document.getElementById('viz1607479662223');                    var vizElement = divElement.getElementsByTagName('object')[0];                    if ( divElement.offsetWidth > 800 ) { vizElement.style.minWidth='420px';vizElement.style.maxWidth='1750px';vizElement.style.width='100%';vizElement.style.minHeight='587px';vizElement.style.maxHeight='887px';vizElement.style.height=(divElement.offsetWidth*0.75)+'px';} else if ( divElement.offsetWidth > 500 ) { vizElement.style.minWidth='420px';vizElement.style.maxWidth='1750px';vizElement.style.width='100%';vizElement.style.minHeight='587px';vizElement.style.maxHeight='887px';vizElement.style.height=(divElement.offsetWidth*0.75)+'px';} else { vizElement.style.width='100%';vizElement.style.height='1227px';}                     var scriptElement = document.createElement('script');                    scriptElement.src = 'https://public.tableau.com/javascripts/api/viz_v1.js';                    vizElement.parentNode.insertBefore(scriptElement, vizElement);                </script>\n"
      ],
      "text/plain": [
       "<IPython.core.display.HTML object>"
      ]
     },
     "metadata": {},
     "output_type": "display_data"
    }
   ],
   "source": [
    "%%html\n",
    "<div class='tableauPlaceholder' id='viz1607479662223' style='position: relative'><noscript><a href='#'><img alt=' ' src='https:&#47;&#47;public.tableau.com&#47;static&#47;images&#47;Pr&#47;Project3_16069712161590&#47;Dashboard1&#47;1_rss.png' style='border: none' /></a></noscript><object class='tableauViz'  style='display:none;'><param name='host_url' value='https%3A%2F%2Fpublic.tableau.com%2F' /> <param name='embed_code_version' value='3' /> <param name='site_root' value='' /><param name='name' value='Project3_16069712161590&#47;Dashboard1' /><param name='tabs' value='no' /><param name='toolbar' value='yes' /><param name='static_image' value='https:&#47;&#47;public.tableau.com&#47;static&#47;images&#47;Pr&#47;Project3_16069712161590&#47;Dashboard1&#47;1.png' /> <param name='animate_transition' value='yes' /><param name='display_static_image' value='yes' /><param name='display_spinner' value='yes' /><param name='display_overlay' value='yes' /><param name='display_count' value='yes' /><param name='language' value='en' /><param name='filter' value='publish=yes' /></object></div>                <script type='text/javascript'>                    var divElement = document.getElementById('viz1607479662223');                    var vizElement = divElement.getElementsByTagName('object')[0];                    if ( divElement.offsetWidth > 800 ) { vizElement.style.minWidth='420px';vizElement.style.maxWidth='1750px';vizElement.style.width='100%';vizElement.style.minHeight='587px';vizElement.style.maxHeight='887px';vizElement.style.height=(divElement.offsetWidth*0.75)+'px';} else if ( divElement.offsetWidth > 500 ) { vizElement.style.minWidth='420px';vizElement.style.maxWidth='1750px';vizElement.style.width='100%';vizElement.style.minHeight='587px';vizElement.style.maxHeight='887px';vizElement.style.height=(divElement.offsetWidth*0.75)+'px';} else { vizElement.style.width='100%';vizElement.style.height='1227px';}                     var scriptElement = document.createElement('script');                    scriptElement.src = 'https://public.tableau.com/javascripts/api/viz_v1.js';                    vizElement.parentNode.insertBefore(scriptElement, vizElement);                </script>"
   ]
  },
  {
   "cell_type": "code",
   "execution_count": 34,
   "metadata": {
    "slideshow": {
     "slide_type": "skip"
    }
   },
   "outputs": [],
   "source": [
    "# Import Walmart data\n",
    "wal_data = pd.read_csv('data_exploration/data/walmartstoreloaction.csv')"
   ]
  },
  {
   "cell_type": "code",
   "execution_count": 35,
   "metadata": {
    "slideshow": {
     "slide_type": "skip"
    }
   },
   "outputs": [
    {
     "data": {
      "text/plain": [
       "US    4636\n",
       "PR      18\n",
       "Name: country, dtype: int64"
      ]
     },
     "execution_count": 35,
     "metadata": {},
     "output_type": "execute_result"
    }
   ],
   "source": [
    "# View countries represented in data\n",
    "wal_data['country'].value_counts()"
   ]
  },
  {
   "cell_type": "code",
   "execution_count": 36,
   "metadata": {
    "slideshow": {
     "slide_type": "subslide"
    }
   },
   "outputs": [
    {
     "data": {
      "text/html": [
       "<div>\n",
       "<style scoped>\n",
       "    .dataframe tbody tr th:only-of-type {\n",
       "        vertical-align: middle;\n",
       "    }\n",
       "\n",
       "    .dataframe tbody tr th {\n",
       "        vertical-align: top;\n",
       "    }\n",
       "\n",
       "    .dataframe thead th {\n",
       "        text-align: right;\n",
       "    }\n",
       "</style>\n",
       "<table border=\"1\" class=\"dataframe\">\n",
       "  <thead>\n",
       "    <tr style=\"text-align: right;\">\n",
       "      <th></th>\n",
       "      <th>Location Name</th>\n",
       "      <th>Address</th>\n",
       "      <th>City</th>\n",
       "      <th>State</th>\n",
       "      <th>Zip</th>\n",
       "      <th>Country</th>\n",
       "      <th>Lat</th>\n",
       "      <th>Long</th>\n",
       "      <th>Brand</th>\n",
       "    </tr>\n",
       "  </thead>\n",
       "  <tbody>\n",
       "    <tr>\n",
       "      <th>0</th>\n",
       "      <td>Conway Supercenter</td>\n",
       "      <td>1155 Hwy 65 North</td>\n",
       "      <td>Conway</td>\n",
       "      <td>AR</td>\n",
       "      <td>72032</td>\n",
       "      <td>US</td>\n",
       "      <td>35.108660</td>\n",
       "      <td>-92.436905</td>\n",
       "      <td>Walmart</td>\n",
       "    </tr>\n",
       "    <tr>\n",
       "      <th>1</th>\n",
       "      <td>Sikeston Supercenter</td>\n",
       "      <td>1303 S Main St</td>\n",
       "      <td>Sikeston</td>\n",
       "      <td>MO</td>\n",
       "      <td>63801</td>\n",
       "      <td>US</td>\n",
       "      <td>36.857394</td>\n",
       "      <td>-89.586051</td>\n",
       "      <td>Walmart</td>\n",
       "    </tr>\n",
       "    <tr>\n",
       "      <th>2</th>\n",
       "      <td>Tahlequah Supercenter</td>\n",
       "      <td>2020 S Muskogee Ave</td>\n",
       "      <td>Tahlequah</td>\n",
       "      <td>OK</td>\n",
       "      <td>74464</td>\n",
       "      <td>US</td>\n",
       "      <td>35.888765</td>\n",
       "      <td>-94.979859</td>\n",
       "      <td>Walmart</td>\n",
       "    </tr>\n",
       "    <tr>\n",
       "      <th>3</th>\n",
       "      <td>Mountain Home Supercenter</td>\n",
       "      <td>65 Wal Mart Dr</td>\n",
       "      <td>Mountain Home</td>\n",
       "      <td>AR</td>\n",
       "      <td>72653</td>\n",
       "      <td>US</td>\n",
       "      <td>36.354957</td>\n",
       "      <td>-92.341026</td>\n",
       "      <td>Walmart</td>\n",
       "    </tr>\n",
       "    <tr>\n",
       "      <th>4</th>\n",
       "      <td>Claremore Supercenter</td>\n",
       "      <td>1500 S Lynn Riggs Blvd</td>\n",
       "      <td>Claremore</td>\n",
       "      <td>OK</td>\n",
       "      <td>74017</td>\n",
       "      <td>US</td>\n",
       "      <td>36.293955</td>\n",
       "      <td>-95.627125</td>\n",
       "      <td>Walmart</td>\n",
       "    </tr>\n",
       "  </tbody>\n",
       "</table>\n",
       "</div>"
      ],
      "text/plain": [
       "               Location Name                 Address           City State  \\\n",
       "0         Conway Supercenter       1155 Hwy 65 North         Conway    AR   \n",
       "1       Sikeston Supercenter          1303 S Main St       Sikeston    MO   \n",
       "2      Tahlequah Supercenter     2020 S Muskogee Ave      Tahlequah    OK   \n",
       "3  Mountain Home Supercenter          65 Wal Mart Dr  Mountain Home    AR   \n",
       "4      Claremore Supercenter  1500 S Lynn Riggs Blvd      Claremore    OK   \n",
       "\n",
       "     Zip Country        Lat       Long    Brand  \n",
       "0  72032      US  35.108660 -92.436905  Walmart  \n",
       "1  63801      US  36.857394 -89.586051  Walmart  \n",
       "2  74464      US  35.888765 -94.979859  Walmart  \n",
       "3  72653      US  36.354957 -92.341026  Walmart  \n",
       "4  74017      US  36.293955 -95.627125  Walmart  "
      ]
     },
     "execution_count": 36,
     "metadata": {},
     "output_type": "execute_result"
    }
   ],
   "source": [
    "# Exclude superfluous columns\n",
    "wal_trimmed = wal_data[['name','street_address','city','state','zip_code','country','latitude','longitude']]\n",
    "\n",
    "# Rename remaining columns\n",
    "wal_trimmed = wal_trimmed.rename(columns={'name': 'Location Name', 'street_address': 'Address', 'city': 'City', 'state': 'State', 'zip_code': 'Zip', 'country': 'Country', 'latitude': 'Lat','longitude':'Long'})\n",
    "\n",
    "# Added 'Brand' column for counting purposes\n",
    "wal_trimmed['Brand']='Walmart'\n",
    "wal_trimmed.head()"
   ]
  },
  {
   "cell_type": "code",
   "execution_count": 37,
   "metadata": {
    "slideshow": {
     "slide_type": "subslide"
    }
   },
   "outputs": [],
   "source": [
    "# Group by Zip\n",
    "wal_groupby = wal_trimmed.groupby('Zip')"
   ]
  },
  {
   "cell_type": "code",
   "execution_count": 38,
   "metadata": {
    "slideshow": {
     "slide_type": "subslide"
    }
   },
   "outputs": [],
   "source": [
    "wal_count = wal_groupby.count()\n",
    "wal_df = pd.DataFrame(wal_count['Brand']).reset_index()"
   ]
  },
  {
   "cell_type": "code",
   "execution_count": 39,
   "metadata": {
    "slideshow": {
     "slide_type": "skip"
    }
   },
   "outputs": [],
   "source": [
    "# Merge Walmart data with Census + Starbucks data\n",
    "df_both_stores = df.merge(wal_df, how='left', on='Zip')"
   ]
  },
  {
   "cell_type": "code",
   "execution_count": 40,
   "metadata": {
    "slideshow": {
     "slide_type": "skip"
    }
   },
   "outputs": [],
   "source": [
    "# Impute null data with zeroes\n",
    "df_both_stores['Brand_x'] = df_both_stores['Brand_x'].fillna(0)\n",
    "df_both_stores['Brand_y'] = df_both_stores['Brand_y'].fillna(0)"
   ]
  },
  {
   "cell_type": "code",
   "execution_count": 41,
   "metadata": {
    "slideshow": {
     "slide_type": "skip"
    }
   },
   "outputs": [],
   "source": [
    "# Full dataframe including dependent variable (store count). Incudes Zips without a location.\n",
    "df_both_stores = df_both_stores.rename(columns={'Brand_x': 'Starbucks Store Count', 'Brand_y':'Walmart Store Count'})\n",
    "walmart_df = df_both_stores.drop(columns='Starbucks Store Count')"
   ]
  },
  {
   "cell_type": "code",
   "execution_count": 42,
   "metadata": {
    "slideshow": {
     "slide_type": "subslide"
    }
   },
   "outputs": [
    {
     "data": {
      "text/html": [
       "<div>\n",
       "<style scoped>\n",
       "    .dataframe tbody tr th:only-of-type {\n",
       "        vertical-align: middle;\n",
       "    }\n",
       "\n",
       "    .dataframe tbody tr th {\n",
       "        vertical-align: top;\n",
       "    }\n",
       "\n",
       "    .dataframe thead th {\n",
       "        text-align: right;\n",
       "    }\n",
       "</style>\n",
       "<table border=\"1\" class=\"dataframe\">\n",
       "  <thead>\n",
       "    <tr style=\"text-align: right;\">\n",
       "      <th></th>\n",
       "      <th>Zip</th>\n",
       "      <th>Household Income Change</th>\n",
       "      <th>Median Home Value Change</th>\n",
       "      <th>% Bachelors+ Change</th>\n",
       "      <th>Walmart Store Count</th>\n",
       "    </tr>\n",
       "  </thead>\n",
       "  <tbody>\n",
       "    <tr>\n",
       "      <th>0</th>\n",
       "      <td>601</td>\n",
       "      <td>-0.016970</td>\n",
       "      <td>-0.164729</td>\n",
       "      <td>0.009724</td>\n",
       "      <td>0.0</td>\n",
       "    </tr>\n",
       "    <tr>\n",
       "      <th>1</th>\n",
       "      <td>602</td>\n",
       "      <td>0.094400</td>\n",
       "      <td>-0.033595</td>\n",
       "      <td>-0.000766</td>\n",
       "      <td>0.0</td>\n",
       "    </tr>\n",
       "    <tr>\n",
       "      <th>2</th>\n",
       "      <td>603</td>\n",
       "      <td>0.150031</td>\n",
       "      <td>0.048843</td>\n",
       "      <td>-0.059337</td>\n",
       "      <td>0.0</td>\n",
       "    </tr>\n",
       "    <tr>\n",
       "      <th>3</th>\n",
       "      <td>606</td>\n",
       "      <td>0.150336</td>\n",
       "      <td>-0.093069</td>\n",
       "      <td>0.118375</td>\n",
       "      <td>0.0</td>\n",
       "    </tr>\n",
       "    <tr>\n",
       "      <th>4</th>\n",
       "      <td>610</td>\n",
       "      <td>0.179752</td>\n",
       "      <td>-0.190128</td>\n",
       "      <td>-0.007150</td>\n",
       "      <td>0.0</td>\n",
       "    </tr>\n",
       "    <tr>\n",
       "      <th>...</th>\n",
       "      <td>...</td>\n",
       "      <td>...</td>\n",
       "      <td>...</td>\n",
       "      <td>...</td>\n",
       "      <td>...</td>\n",
       "    </tr>\n",
       "    <tr>\n",
       "      <th>33115</th>\n",
       "      <td>99923</td>\n",
       "      <td>1.146597</td>\n",
       "      <td>0.796516</td>\n",
       "      <td>-0.805195</td>\n",
       "      <td>0.0</td>\n",
       "    </tr>\n",
       "    <tr>\n",
       "      <th>33116</th>\n",
       "      <td>99925</td>\n",
       "      <td>0.330435</td>\n",
       "      <td>0.061436</td>\n",
       "      <td>0.224762</td>\n",
       "      <td>0.0</td>\n",
       "    </tr>\n",
       "    <tr>\n",
       "      <th>33117</th>\n",
       "      <td>99926</td>\n",
       "      <td>0.181197</td>\n",
       "      <td>0.415430</td>\n",
       "      <td>0.108814</td>\n",
       "      <td>0.0</td>\n",
       "    </tr>\n",
       "    <tr>\n",
       "      <th>33118</th>\n",
       "      <td>99927</td>\n",
       "      <td>2.346643</td>\n",
       "      <td>1.201131</td>\n",
       "      <td>-0.432836</td>\n",
       "      <td>0.0</td>\n",
       "    </tr>\n",
       "    <tr>\n",
       "      <th>33119</th>\n",
       "      <td>99929</td>\n",
       "      <td>0.145110</td>\n",
       "      <td>0.253538</td>\n",
       "      <td>0.185209</td>\n",
       "      <td>0.0</td>\n",
       "    </tr>\n",
       "  </tbody>\n",
       "</table>\n",
       "<p>33120 rows × 5 columns</p>\n",
       "</div>"
      ],
      "text/plain": [
       "         Zip  Household Income Change  Median Home Value Change  \\\n",
       "0        601                -0.016970                 -0.164729   \n",
       "1        602                 0.094400                 -0.033595   \n",
       "2        603                 0.150031                  0.048843   \n",
       "3        606                 0.150336                 -0.093069   \n",
       "4        610                 0.179752                 -0.190128   \n",
       "...      ...                      ...                       ...   \n",
       "33115  99923                 1.146597                  0.796516   \n",
       "33116  99925                 0.330435                  0.061436   \n",
       "33117  99926                 0.181197                  0.415430   \n",
       "33118  99927                 2.346643                  1.201131   \n",
       "33119  99929                 0.145110                  0.253538   \n",
       "\n",
       "       % Bachelors+ Change  Walmart Store Count  \n",
       "0                 0.009724                  0.0  \n",
       "1                -0.000766                  0.0  \n",
       "2                -0.059337                  0.0  \n",
       "3                 0.118375                  0.0  \n",
       "4                -0.007150                  0.0  \n",
       "...                    ...                  ...  \n",
       "33115            -0.805195                  0.0  \n",
       "33116             0.224762                  0.0  \n",
       "33117             0.108814                  0.0  \n",
       "33118            -0.432836                  0.0  \n",
       "33119             0.185209                  0.0  \n",
       "\n",
       "[33120 rows x 5 columns]"
      ]
     },
     "execution_count": 42,
     "metadata": {},
     "output_type": "execute_result"
    }
   ],
   "source": [
    "walmart_df"
   ]
  },
  {
   "cell_type": "code",
   "execution_count": 43,
   "metadata": {
    "slideshow": {
     "slide_type": "skip"
    }
   },
   "outputs": [],
   "source": [
    "# Full dataframe including dependent variable (store count). Does NOT include Zips without a location.\n",
    "df_both_stores_without = df_both_stores.loc[(df_both_stores['Walmart Store Count'] != 0) | (df_both_stores['Starbucks Store Count'] != 0)]\n",
    "walmart_without = df_both_stores_without.drop(columns='Starbucks Store Count')"
   ]
  },
  {
   "cell_type": "code",
   "execution_count": 44,
   "metadata": {
    "slideshow": {
     "slide_type": "skip"
    }
   },
   "outputs": [],
   "source": [
    "walmart_df.to_csv('data_exploration/walmart_full_us_data.csv')\n",
    "walmart_without.to_csv('data_exploration/walmart_stores_only_data.csv')"
   ]
  },
  {
   "cell_type": "markdown",
   "metadata": {
    "slideshow": {
     "slide_type": "skip"
    }
   },
   "source": []
  },
  {
   "cell_type": "markdown",
   "metadata": {
    "slideshow": {
     "slide_type": "slide"
    }
   },
   "source": [
    "# MACHINE TRAINING"
   ]
  },
  {
   "cell_type": "markdown",
   "metadata": {
    "slideshow": {
     "slide_type": "slide"
    }
   },
   "source": [
    "# Starbucks Modelling: Zipcodes with Stores Only"
   ]
  },
  {
   "cell_type": "code",
   "execution_count": 45,
   "metadata": {
    "slideshow": {
     "slide_type": "skip"
    }
   },
   "outputs": [],
   "source": [
    "starbucks_only = pd.read_csv('data_exploration/us_data.csv').drop(columns='Unnamed: 0')"
   ]
  },
  {
   "cell_type": "code",
   "execution_count": 46,
   "metadata": {
    "slideshow": {
     "slide_type": "skip"
    }
   },
   "outputs": [],
   "source": [
    "starbucks_only['% Bachelors+ Change'] = [np.nan if np.isinf(i) else i for i in starbucks_only['% Bachelors+ Change']]\n",
    "starbucks_only['% Bachelors+ Change'] = starbucks_only['% Bachelors+ Change'].fillna(starbucks_only['% Bachelors+ Change'].mean())"
   ]
  },
  {
   "cell_type": "code",
   "execution_count": 47,
   "metadata": {
    "slideshow": {
     "slide_type": "skip"
    }
   },
   "outputs": [],
   "source": [
    "X = starbucks_only.iloc[:, 1:-1].values\n",
    "y = starbucks_only.iloc[:, -1].values"
   ]
  },
  {
   "cell_type": "code",
   "execution_count": 48,
   "metadata": {
    "slideshow": {
     "slide_type": "subslide"
    }
   },
   "outputs": [
    {
     "data": {
      "text/plain": [
       "<matplotlib.axes._subplots.AxesSubplot at 0x7ff413792b38>"
      ]
     },
     "execution_count": 48,
     "metadata": {},
     "output_type": "execute_result"
    },
    {
     "data": {
      "image/png": "[encoded data removed]",
      "text/plain": [
       "<Figure size 432x288 with 2 Axes>"
      ]
     },
     "metadata": {
      "needs_background": "light"
     },
     "output_type": "display_data"
    }
   ],
   "source": [
    "sns.heatmap(starbucks_only.corr())"
   ]
  },
  {
   "cell_type": "code",
   "execution_count": 49,
   "metadata": {
    "slideshow": {
     "slide_type": "subslide"
    }
   },
   "outputs": [
    {
     "data": {
      "image/png": "[encoded data removed]",
      "text/plain": [
       "<Figure size 864x576 with 16 Axes>"
      ]
     },
     "metadata": {
      "needs_background": "light"
     },
     "output_type": "display_data"
    }
   ],
   "source": [
    "pd.plotting.scatter_matrix(starbucks_only.iloc[:, 1:], figsize=(12,8));"
   ]
  },
  {
   "cell_type": "markdown",
   "metadata": {
    "slideshow": {
     "slide_type": "skip"
    }
   },
   "source": [
    "### Multiple Linear Regression"
   ]
  },
  {
   "cell_type": "code",
   "execution_count": 50,
   "metadata": {
    "slideshow": {
     "slide_type": "skip"
    }
   },
   "outputs": [],
   "source": [
    "from sklearn.model_selection import train_test_split\n",
    "X_train, X_test, y_train, y_test = train_test_split(X, y, test_size=0.2)"
   ]
  },
  {
   "cell_type": "code",
   "execution_count": 51,
   "metadata": {
    "slideshow": {
     "slide_type": "skip"
    }
   },
   "outputs": [
    {
     "data": {
      "text/plain": [
       "LinearRegression()"
      ]
     },
     "execution_count": 51,
     "metadata": {},
     "output_type": "execute_result"
    }
   ],
   "source": [
    "from sklearn.linear_model import LinearRegression\n",
    "multi = LinearRegression()\n",
    "multi.fit(X_train, y_train)"
   ]
  },
  {
   "cell_type": "code",
   "execution_count": 52,
   "metadata": {
    "slideshow": {
     "slide_type": "skip"
    }
   },
   "outputs": [],
   "source": [
    "sb_multi = multi.score(X_test, y_test)"
   ]
  },
  {
   "cell_type": "code",
   "execution_count": 53,
   "metadata": {
    "slideshow": {
     "slide_type": "skip"
    }
   },
   "outputs": [
    {
     "name": "stdout",
     "output_type": "stream",
     "text": [
      "Accuracy: -1.38 %\n",
      "Standard Deviation: 3.90 %\n"
     ]
    }
   ],
   "source": [
    "from sklearn.model_selection import cross_val_score\n",
    "accuracies = cross_val_score(estimator = multi, X = X_train, y = y_train, cv = 10)\n",
    "print(\"Accuracy: {:.2f} %\".format(accuracies.mean()*100))\n",
    "print(\"Standard Deviation: {:.2f} %\".format(accuracies.std()*100))"
   ]
  },
  {
   "cell_type": "markdown",
   "metadata": {
    "slideshow": {
     "slide_type": "skip"
    }
   },
   "source": [
    "### Support Vector Regression"
   ]
  },
  {
   "cell_type": "code",
   "execution_count": 54,
   "metadata": {
    "slideshow": {
     "slide_type": "skip"
    }
   },
   "outputs": [],
   "source": [
    "y = y.reshape(len(y), 1)\n",
    "\n",
    "from sklearn.preprocessing import StandardScaler\n",
    "sc_X = StandardScaler()\n",
    "sc_y = StandardScaler()\n",
    "X = sc_X.fit_transform(X)\n",
    "y = sc_y.fit_transform(y)"
   ]
  },
  {
   "cell_type": "code",
   "execution_count": 55,
   "metadata": {
    "slideshow": {
     "slide_type": "skip"
    }
   },
   "outputs": [],
   "source": [
    "X_train, X_test, y_train, y_test = train_test_split(X, y, test_size=0.2)"
   ]
  },
  {
   "cell_type": "code",
   "execution_count": 56,
   "metadata": {
    "slideshow": {
     "slide_type": "skip"
    }
   },
   "outputs": [
    {
     "data": {
      "text/plain": [
       "SVR()"
      ]
     },
     "execution_count": 56,
     "metadata": {},
     "output_type": "execute_result"
    }
   ],
   "source": [
    "from sklearn.svm import SVR\n",
    "svr = SVR(kernel = 'rbf')\n",
    "svr.fit(X_train, y_train.ravel())"
   ]
  },
  {
   "cell_type": "code",
   "execution_count": 57,
   "metadata": {
    "slideshow": {
     "slide_type": "skip"
    }
   },
   "outputs": [],
   "source": [
    "sb_svr = svr.score(X_test, y_test)"
   ]
  },
  {
   "cell_type": "code",
   "execution_count": 58,
   "metadata": {
    "slideshow": {
     "slide_type": "skip"
    }
   },
   "outputs": [
    {
     "name": "stdout",
     "output_type": "stream",
     "text": [
      "Accuracy: -2.88 %\n",
      "Standard Deviation: 2.22 %\n"
     ]
    }
   ],
   "source": [
    "accuracies = cross_val_score(estimator = svr, X = X_train, y = y_train.ravel(), cv = 10)\n",
    "print(\"Accuracy: {:.2f} %\".format(accuracies.mean()*100))\n",
    "print(\"Standard Deviation: {:.2f} %\".format(accuracies.std()*100))"
   ]
  },
  {
   "cell_type": "markdown",
   "metadata": {
    "slideshow": {
     "slide_type": "skip"
    }
   },
   "source": [
    "### Decision Tree Regression"
   ]
  },
  {
   "cell_type": "code",
   "execution_count": 59,
   "metadata": {
    "slideshow": {
     "slide_type": "skip"
    }
   },
   "outputs": [],
   "source": [
    "X = starbucks_only.iloc[:, 1:-1].values\n",
    "y = starbucks_only.iloc[:, -1].values"
   ]
  },
  {
   "cell_type": "code",
   "execution_count": 60,
   "metadata": {
    "slideshow": {
     "slide_type": "skip"
    }
   },
   "outputs": [],
   "source": [
    "from sklearn.tree import DecisionTreeRegressor\n",
    "tree = DecisionTreeRegressor()"
   ]
  },
  {
   "cell_type": "code",
   "execution_count": 61,
   "metadata": {
    "slideshow": {
     "slide_type": "skip"
    }
   },
   "outputs": [],
   "source": [
    "y = y.reshape(len(y), 1)\n",
    "\n",
    "sc_X = StandardScaler()\n",
    "sc_y = StandardScaler()\n",
    "X = sc_X.fit_transform(X)\n",
    "y = sc_y.fit_transform(y)"
   ]
  },
  {
   "cell_type": "code",
   "execution_count": 62,
   "metadata": {
    "slideshow": {
     "slide_type": "skip"
    }
   },
   "outputs": [],
   "source": [
    "X_train, X_test, y_train, y_test = train_test_split(X, y, test_size =0.2)"
   ]
  },
  {
   "cell_type": "code",
   "execution_count": 63,
   "metadata": {
    "slideshow": {
     "slide_type": "skip"
    }
   },
   "outputs": [
    {
     "data": {
      "text/plain": [
       "DecisionTreeRegressor()"
      ]
     },
     "execution_count": 63,
     "metadata": {},
     "output_type": "execute_result"
    }
   ],
   "source": [
    "tree.fit(X_train, y_train)"
   ]
  },
  {
   "cell_type": "code",
   "execution_count": 64,
   "metadata": {
    "slideshow": {
     "slide_type": "skip"
    }
   },
   "outputs": [],
   "source": [
    "sb_tree = tree.score(X_test, y_test)"
   ]
  },
  {
   "cell_type": "code",
   "execution_count": 65,
   "metadata": {
    "slideshow": {
     "slide_type": "skip"
    }
   },
   "outputs": [
    {
     "name": "stdout",
     "output_type": "stream",
     "text": [
      "Accuracy: -110.73 %\n",
      "Standard Deviation: 38.55 %\n"
     ]
    }
   ],
   "source": [
    "accuracies = cross_val_score(estimator = tree, X = X_train, y = y_train, cv = 10)\n",
    "print(\"Accuracy: {:.2f} %\".format(accuracies.mean()*100))\n",
    "print(\"Standard Deviation: {:.2f} %\".format(accuracies.std()*100))"
   ]
  },
  {
   "cell_type": "markdown",
   "metadata": {
    "slideshow": {
     "slide_type": "skip"
    }
   },
   "source": [
    "### Random Forest Regression"
   ]
  },
  {
   "cell_type": "code",
   "execution_count": 66,
   "metadata": {
    "slideshow": {
     "slide_type": "skip"
    }
   },
   "outputs": [],
   "source": [
    "X = starbucks_only.iloc[:, 1:-1].values\n",
    "y = starbucks_only.iloc[:, -1].values\n",
    "\n",
    "y = y.reshape(len(y), 1)"
   ]
  },
  {
   "cell_type": "code",
   "execution_count": 67,
   "metadata": {
    "slideshow": {
     "slide_type": "skip"
    }
   },
   "outputs": [],
   "source": [
    "sc_X = StandardScaler()\n",
    "sc_y = StandardScaler()\n",
    "X = sc_X.fit_transform(X)\n",
    "y = sc_y.fit_transform(y)"
   ]
  },
  {
   "cell_type": "code",
   "execution_count": 68,
   "metadata": {
    "slideshow": {
     "slide_type": "skip"
    }
   },
   "outputs": [],
   "source": [
    "X_train, X_test, y_train, y_test = train_test_split(X, y, test_size =0.2)"
   ]
  },
  {
   "cell_type": "code",
   "execution_count": 69,
   "metadata": {
    "slideshow": {
     "slide_type": "skip"
    }
   },
   "outputs": [
    {
     "data": {
      "text/plain": [
       "RandomForestRegressor(n_estimators=10)"
      ]
     },
     "execution_count": 69,
     "metadata": {},
     "output_type": "execute_result"
    }
   ],
   "source": [
    "from sklearn.ensemble import RandomForestRegressor\n",
    "rf = RandomForestRegressor(n_estimators = 10)\n",
    "rf.fit(X_train, y_train.ravel())"
   ]
  },
  {
   "cell_type": "code",
   "execution_count": 70,
   "metadata": {
    "slideshow": {
     "slide_type": "skip"
    }
   },
   "outputs": [],
   "source": [
    "sb_rf = rf.score(X_test, y_test)"
   ]
  },
  {
   "cell_type": "code",
   "execution_count": 71,
   "metadata": {
    "slideshow": {
     "slide_type": "skip"
    }
   },
   "outputs": [
    {
     "name": "stdout",
     "output_type": "stream",
     "text": [
      "Accuracy: -14.53 %\n",
      "Standard Deviation: 9.66 %\n"
     ]
    }
   ],
   "source": [
    "accuracies = cross_val_score(estimator = rf, X = X_train, y = y_train.ravel(), cv = 10)\n",
    "print(\"Accuracy: {:.2f} %\".format(accuracies.mean()*100))\n",
    "print(\"Standard Deviation: {:.2f} %\".format(accuracies.std()*100))"
   ]
  },
  {
   "cell_type": "markdown",
   "metadata": {
    "slideshow": {
     "slide_type": "slide"
    }
   },
   "source": [
    "# Walmart Modelling: Zipcodes with Stores Only"
   ]
  },
  {
   "cell_type": "code",
   "execution_count": 72,
   "metadata": {
    "slideshow": {
     "slide_type": "skip"
    }
   },
   "outputs": [],
   "source": [
    "walmart_only = pd.read_csv('data_exploration/walmart_full_us_data.csv')\n",
    "walmart_only = walmart_only.loc[walmart_only['Walmart Store Count'] != 0.0].drop(columns='Unnamed: 0')"
   ]
  },
  {
   "cell_type": "code",
   "execution_count": 73,
   "metadata": {
    "slideshow": {
     "slide_type": "skip"
    }
   },
   "outputs": [],
   "source": [
    "walmart_only['% Bachelors+ Change'] = [np.nan if np.isinf(i) else i for i in walmart_only['% Bachelors+ Change']]\n",
    "walmart_only['% Bachelors+ Change'] = walmart_only['% Bachelors+ Change'].fillna(walmart_only['% Bachelors+ Change'].mean())"
   ]
  },
  {
   "cell_type": "code",
   "execution_count": 74,
   "metadata": {
    "slideshow": {
     "slide_type": "subslide"
    }
   },
   "outputs": [
    {
     "data": {
      "text/plain": [
       "<matplotlib.axes._subplots.AxesSubplot at 0x7ff413b25f60>"
      ]
     },
     "execution_count": 74,
     "metadata": {},
     "output_type": "execute_result"
    },
    {
     "data": {
      "image/png": "[encoded data removed]",
      "text/plain": [
       "<Figure size 432x288 with 2 Axes>"
      ]
     },
     "metadata": {
      "needs_background": "light"
     },
     "output_type": "display_data"
    }
   ],
   "source": [
    "sns.heatmap(walmart_only.corr())"
   ]
  },
  {
   "cell_type": "code",
   "execution_count": 75,
   "metadata": {
    "slideshow": {
     "slide_type": "subslide"
    }
   },
   "outputs": [
    {
     "data": {
      "image/png": "[encoded data removed]",
      "text/plain": [
       "<Figure size 864x576 with 16 Axes>"
      ]
     },
     "metadata": {
      "needs_background": "light"
     },
     "output_type": "display_data"
    }
   ],
   "source": [
    "pd.plotting.scatter_matrix(walmart_only.iloc[:, 1:], figsize=(12,8));"
   ]
  },
  {
   "cell_type": "markdown",
   "metadata": {
    "slideshow": {
     "slide_type": "skip"
    }
   },
   "source": [
    "### Multiple Linear Regression"
   ]
  },
  {
   "cell_type": "code",
   "execution_count": 76,
   "metadata": {
    "slideshow": {
     "slide_type": "skip"
    }
   },
   "outputs": [],
   "source": [
    "X = walmart_only.iloc[:, 1:-1].values\n",
    "y = walmart_only.iloc[:, -1].values"
   ]
  },
  {
   "cell_type": "code",
   "execution_count": 77,
   "metadata": {
    "slideshow": {
     "slide_type": "skip"
    }
   },
   "outputs": [],
   "source": [
    "X_train, X_test, y_train, y_test = train_test_split(X, y, test_size=0.2)"
   ]
  },
  {
   "cell_type": "code",
   "execution_count": 78,
   "metadata": {
    "slideshow": {
     "slide_type": "skip"
    }
   },
   "outputs": [
    {
     "data": {
      "text/plain": [
       "LinearRegression()"
      ]
     },
     "execution_count": 78,
     "metadata": {},
     "output_type": "execute_result"
    }
   ],
   "source": [
    "multi = LinearRegression()\n",
    "multi.fit(X_train, y_train)"
   ]
  },
  {
   "cell_type": "code",
   "execution_count": 79,
   "metadata": {
    "slideshow": {
     "slide_type": "skip"
    }
   },
   "outputs": [],
   "source": [
    "wm_multi = multi.score(X_test, y_test)"
   ]
  },
  {
   "cell_type": "code",
   "execution_count": 80,
   "metadata": {
    "slideshow": {
     "slide_type": "skip"
    }
   },
   "outputs": [
    {
     "name": "stdout",
     "output_type": "stream",
     "text": [
      "Accuracy: -1.47 %\n",
      "Standard Deviation: 6.42 %\n"
     ]
    }
   ],
   "source": [
    "accuracies = cross_val_score(estimator = multi, X = X_train, y = y_train, cv = 10)\n",
    "print(\"Accuracy: {:.2f} %\".format(accuracies.mean()*100))\n",
    "print(\"Standard Deviation: {:.2f} %\".format(accuracies.std()*100))"
   ]
  },
  {
   "cell_type": "markdown",
   "metadata": {
    "slideshow": {
     "slide_type": "skip"
    }
   },
   "source": [
    "### Suport Vector Regression"
   ]
  },
  {
   "cell_type": "code",
   "execution_count": 81,
   "metadata": {
    "slideshow": {
     "slide_type": "skip"
    }
   },
   "outputs": [],
   "source": [
    "X = walmart_only.iloc[:, 1:-1].values\n",
    "y = walmart_only.iloc[:, -1].values"
   ]
  },
  {
   "cell_type": "code",
   "execution_count": 82,
   "metadata": {
    "slideshow": {
     "slide_type": "skip"
    }
   },
   "outputs": [],
   "source": [
    "y = y.reshape(len(y), 1)"
   ]
  },
  {
   "cell_type": "code",
   "execution_count": 83,
   "metadata": {
    "slideshow": {
     "slide_type": "skip"
    }
   },
   "outputs": [],
   "source": [
    "sc_X = StandardScaler()\n",
    "sc_y = StandardScaler()\n",
    "X = sc_X.fit_transform(X)\n",
    "y = sc_y.fit_transform(y)"
   ]
  },
  {
   "cell_type": "code",
   "execution_count": 84,
   "metadata": {
    "slideshow": {
     "slide_type": "skip"
    }
   },
   "outputs": [],
   "source": [
    "X_train, X_test, y_train, y_test = train_test_split(X, y, test_size=0.2)"
   ]
  },
  {
   "cell_type": "code",
   "execution_count": 85,
   "metadata": {
    "slideshow": {
     "slide_type": "skip"
    }
   },
   "outputs": [
    {
     "data": {
      "text/plain": [
       "SVR()"
      ]
     },
     "execution_count": 85,
     "metadata": {},
     "output_type": "execute_result"
    }
   ],
   "source": [
    "svr = SVR(kernel = 'rbf')\n",
    "svr.fit(X_train, y_train.ravel())"
   ]
  },
  {
   "cell_type": "code",
   "execution_count": 86,
   "metadata": {
    "slideshow": {
     "slide_type": "skip"
    }
   },
   "outputs": [],
   "source": [
    "wm_svr = svr.score(X_test, y_test)"
   ]
  },
  {
   "cell_type": "code",
   "execution_count": 87,
   "metadata": {
    "slideshow": {
     "slide_type": "skip"
    }
   },
   "outputs": [
    {
     "name": "stdout",
     "output_type": "stream",
     "text": [
      "Accuracy: -3.92 %\n",
      "Standard Deviation: 1.54 %\n"
     ]
    }
   ],
   "source": [
    "accuracies = cross_val_score(estimator = svr, X = X_train, y = y_train.ravel(), cv = 10)\n",
    "print(\"Accuracy: {:.2f} %\".format(accuracies.mean()*100))\n",
    "print(\"Standard Deviation: {:.2f} %\".format(accuracies.std()*100))"
   ]
  },
  {
   "cell_type": "markdown",
   "metadata": {
    "slideshow": {
     "slide_type": "skip"
    }
   },
   "source": [
    "### Decision Tree Regression"
   ]
  },
  {
   "cell_type": "code",
   "execution_count": 88,
   "metadata": {
    "slideshow": {
     "slide_type": "skip"
    }
   },
   "outputs": [],
   "source": [
    "X = walmart_only.iloc[:, 1:-1].values\n",
    "y = walmart_only.iloc[:, -1].values\n",
    "\n",
    "y = y.reshape(len(y), 1)"
   ]
  },
  {
   "cell_type": "code",
   "execution_count": 89,
   "metadata": {
    "slideshow": {
     "slide_type": "skip"
    }
   },
   "outputs": [],
   "source": [
    "sc_X = StandardScaler()\n",
    "sc_y = StandardScaler()\n",
    "X = sc_X.fit_transform(X)\n",
    "y = sc_y.fit_transform(y)"
   ]
  },
  {
   "cell_type": "code",
   "execution_count": 90,
   "metadata": {
    "slideshow": {
     "slide_type": "skip"
    }
   },
   "outputs": [],
   "source": [
    "X_train, X_test, y_train, y_test = train_test_split(X, y, test_size=0.2)"
   ]
  },
  {
   "cell_type": "code",
   "execution_count": 91,
   "metadata": {
    "slideshow": {
     "slide_type": "skip"
    }
   },
   "outputs": [
    {
     "data": {
      "text/plain": [
       "DecisionTreeRegressor()"
      ]
     },
     "execution_count": 91,
     "metadata": {},
     "output_type": "execute_result"
    }
   ],
   "source": [
    "tree = DecisionTreeRegressor()\n",
    "tree.fit(X_train, y_train)"
   ]
  },
  {
   "cell_type": "code",
   "execution_count": 92,
   "metadata": {
    "slideshow": {
     "slide_type": "skip"
    }
   },
   "outputs": [],
   "source": [
    "wm_tree = tree.score(X_test, y_test)"
   ]
  },
  {
   "cell_type": "code",
   "execution_count": 93,
   "metadata": {
    "slideshow": {
     "slide_type": "skip"
    }
   },
   "outputs": [
    {
     "name": "stdout",
     "output_type": "stream",
     "text": [
      "Accuracy: -143.14 %\n",
      "Standard Deviation: 128.56 %\n"
     ]
    }
   ],
   "source": [
    "accuracies = cross_val_score(estimator = tree, X = X_train, y = y_train, cv = 10)\n",
    "print(\"Accuracy: {:.2f} %\".format(accuracies.mean()*100))\n",
    "print(\"Standard Deviation: {:.2f} %\".format(accuracies.std()*100))"
   ]
  },
  {
   "cell_type": "markdown",
   "metadata": {
    "slideshow": {
     "slide_type": "skip"
    }
   },
   "source": [
    "### Random Forest Regression"
   ]
  },
  {
   "cell_type": "code",
   "execution_count": 94,
   "metadata": {
    "slideshow": {
     "slide_type": "skip"
    }
   },
   "outputs": [],
   "source": [
    "X = walmart_only.iloc[:, 1:-1].values\n",
    "y = walmart_only.iloc[:, -1].values\n",
    "\n",
    "y = y.reshape(len(y), 1)"
   ]
  },
  {
   "cell_type": "code",
   "execution_count": 95,
   "metadata": {
    "slideshow": {
     "slide_type": "skip"
    }
   },
   "outputs": [],
   "source": [
    "sc_X = StandardScaler()\n",
    "sc_y = StandardScaler()\n",
    "X = sc_X.fit_transform(X)\n",
    "y = sc_y.fit_transform(y)"
   ]
  },
  {
   "cell_type": "code",
   "execution_count": 96,
   "metadata": {
    "slideshow": {
     "slide_type": "skip"
    }
   },
   "outputs": [],
   "source": [
    "X_train, X_test, y_train, y_test = train_test_split(X, y, test_size=0.2)"
   ]
  },
  {
   "cell_type": "code",
   "execution_count": 97,
   "metadata": {
    "slideshow": {
     "slide_type": "skip"
    }
   },
   "outputs": [
    {
     "data": {
      "text/plain": [
       "RandomForestRegressor(n_estimators=10)"
      ]
     },
     "execution_count": 97,
     "metadata": {},
     "output_type": "execute_result"
    }
   ],
   "source": [
    "rf = RandomForestRegressor(n_estimators = 10)\n",
    "rf.fit(X_train, y_train.ravel())"
   ]
  },
  {
   "cell_type": "code",
   "execution_count": 98,
   "metadata": {
    "slideshow": {
     "slide_type": "skip"
    }
   },
   "outputs": [],
   "source": [
    "wm_rf = rf.score(X_test, y_test)"
   ]
  },
  {
   "cell_type": "code",
   "execution_count": 99,
   "metadata": {
    "slideshow": {
     "slide_type": "skip"
    }
   },
   "outputs": [
    {
     "name": "stdout",
     "output_type": "stream",
     "text": [
      "Accuracy: -23.59 %\n",
      "Standard Deviation: 17.24 %\n"
     ]
    }
   ],
   "source": [
    "accuracies = cross_val_score(estimator = rf, X = X_train, y = y_train.ravel(), cv = 10)\n",
    "print(\"Accuracy: {:.2f} %\".format(accuracies.mean()*100))\n",
    "print(\"Standard Deviation: {:.2f} %\".format(accuracies.std()*100))"
   ]
  },
  {
   "cell_type": "markdown",
   "metadata": {
    "slideshow": {
     "slide_type": "slide"
    }
   },
   "source": [
    "# Comparing Data: Machine Learning Models on Zipcodes with Stores Only vs All Zipcodes"
   ]
  },
  {
   "cell_type": "code",
   "execution_count": 100,
   "metadata": {
    "slideshow": {
     "slide_type": "skip"
    }
   },
   "outputs": [],
   "source": [
    "sb_match = [sb_multi, sb_svr, sb_tree, sb_rf]\n",
    "wm_match = [wm_multi, wm_svr, wm_tree, wm_rf]\n",
    "models = ['Multiple Regression', 'SVR', 'Decision Tree Regression', 'Random Forest Regression']"
   ]
  },
  {
   "cell_type": "code",
   "execution_count": 101,
   "metadata": {
    "slideshow": {
     "slide_type": "skip"
    }
   },
   "outputs": [],
   "source": [
    "compare = pd.DataFrame()\n",
    "compare['Model Type'] = models\n",
    "compare['Starbucks'] = sb_match\n",
    "compare['Walmart'] = wm_match"
   ]
  },
  {
   "cell_type": "code",
   "execution_count": 102,
   "metadata": {
    "slideshow": {
     "slide_type": "skip"
    }
   },
   "outputs": [],
   "source": [
    "compare_full = pd.read_csv('full_us_compare.csv')"
   ]
  },
  {
   "cell_type": "code",
   "execution_count": 103,
   "metadata": {
    "slideshow": {
     "slide_type": "skip"
    }
   },
   "outputs": [],
   "source": [
    "model_comparison = compare.merge(compare_full, on='Model Type').drop(columns='Unnamed: 0')"
   ]
  },
  {
   "cell_type": "code",
   "execution_count": 104,
   "metadata": {
    "slideshow": {
     "slide_type": "subslide"
    }
   },
   "outputs": [
    {
     "data": {
      "text/html": [
       "<div>\n",
       "<style scoped>\n",
       "    .dataframe tbody tr th:only-of-type {\n",
       "        vertical-align: middle;\n",
       "    }\n",
       "\n",
       "    .dataframe tbody tr th {\n",
       "        vertical-align: top;\n",
       "    }\n",
       "\n",
       "    .dataframe thead th {\n",
       "        text-align: right;\n",
       "    }\n",
       "</style>\n",
       "<table border=\"1\" class=\"dataframe\">\n",
       "  <thead>\n",
       "    <tr style=\"text-align: right;\">\n",
       "      <th></th>\n",
       "      <th>Model Type</th>\n",
       "      <th>Starbucks</th>\n",
       "      <th>Walmart</th>\n",
       "      <th>Starbucks - Full US</th>\n",
       "      <th>Walmart - Full US</th>\n",
       "    </tr>\n",
       "  </thead>\n",
       "  <tbody>\n",
       "    <tr>\n",
       "      <th>0</th>\n",
       "      <td>Multiple Regression</td>\n",
       "      <td>-0.002371</td>\n",
       "      <td>0.015619</td>\n",
       "      <td>0.001042</td>\n",
       "      <td>0.002589</td>\n",
       "    </tr>\n",
       "    <tr>\n",
       "      <th>1</th>\n",
       "      <td>SVR</td>\n",
       "      <td>-0.015947</td>\n",
       "      <td>-0.052885</td>\n",
       "      <td>-0.057317</td>\n",
       "      <td>-0.064115</td>\n",
       "    </tr>\n",
       "    <tr>\n",
       "      <th>2</th>\n",
       "      <td>Decision Tree Regression</td>\n",
       "      <td>-0.882849</td>\n",
       "      <td>-1.269541</td>\n",
       "      <td>-0.874926</td>\n",
       "      <td>-0.915713</td>\n",
       "    </tr>\n",
       "    <tr>\n",
       "      <th>3</th>\n",
       "      <td>Random Forest Regression</td>\n",
       "      <td>-0.071545</td>\n",
       "      <td>-0.150807</td>\n",
       "      <td>-0.033776</td>\n",
       "      <td>-0.040049</td>\n",
       "    </tr>\n",
       "  </tbody>\n",
       "</table>\n",
       "</div>"
      ],
      "text/plain": [
       "                 Model Type  Starbucks   Walmart  Starbucks - Full US  \\\n",
       "0       Multiple Regression  -0.002371  0.015619             0.001042   \n",
       "1                       SVR  -0.015947 -0.052885            -0.057317   \n",
       "2  Decision Tree Regression  -0.882849 -1.269541            -0.874926   \n",
       "3  Random Forest Regression  -0.071545 -0.150807            -0.033776   \n",
       "\n",
       "   Walmart - Full US  \n",
       "0           0.002589  \n",
       "1          -0.064115  \n",
       "2          -0.915713  \n",
       "3          -0.040049  "
      ]
     },
     "execution_count": 104,
     "metadata": {},
     "output_type": "execute_result"
    }
   ],
   "source": [
    "model_comparison"
   ]
  },
  {
   "cell_type": "markdown",
   "metadata": {
    "slideshow": {
     "slide_type": "slide"
    }
   },
   "source": [
    "# Comparing with 2018-only Data"
   ]
  },
  {
   "cell_type": "code",
   "execution_count": 105,
   "metadata": {
    "slideshow": {
     "slide_type": "skip"
    }
   },
   "outputs": [],
   "source": [
    "# Merge Starbucks data with 2018 only data\n",
    "df_nc['Zip'] = df_nc['Zip'].astype('int64')\n",
    "nc2018 = df_nc.merge(sb_df, how='left', on='Zip')"
   ]
  },
  {
   "cell_type": "code",
   "execution_count": 106,
   "metadata": {
    "slideshow": {
     "slide_type": "skip"
    }
   },
   "outputs": [],
   "source": [
    "# Replace corrupted values with null values\n",
    "nc2018['Median Household Income'] = [np.nan if i<0 else i for i in nc2018['Median Household Income']]\n",
    "nc2018['Median Home Value'] =[np.nan if i<0 else i for i in nc2018['Median Home Value']]\n",
    "nc2018['Have Bachelors+'] = [np.nan if i<0 else i for i in nc2018['Have Bachelors+']]"
   ]
  },
  {
   "cell_type": "code",
   "execution_count": 107,
   "metadata": {
    "slideshow": {
     "slide_type": "skip"
    }
   },
   "outputs": [],
   "source": [
    "# Imputing null values with feature mean\n",
    "nc2018['Median Household Income'] = nc2018['Median Household Income'].fillna(nc2018['Median Household Income'].mean())\n",
    "nc2018['Median Home Value'] = nc2018['Median Home Value'].fillna(nc2018['Median Home Value'].mean())\n",
    "nc2018['Have Bachelors+'] = nc2018['Have Bachelors+'].fillna(nc2018['Have Bachelors+'].mean())\n",
    "nc2018['Brand'] = nc2018['Brand'].fillna(0)\n",
    "nc2018 = nc2018.rename(columns={'Brand': 'Store Count'})"
   ]
  },
  {
   "cell_type": "code",
   "execution_count": 108,
   "metadata": {
    "slideshow": {
     "slide_type": "subslide"
    }
   },
   "outputs": [
    {
     "data": {
      "text/plain": [
       "<matplotlib.axes._subplots.AxesSubplot at 0x7ff4147d8940>"
      ]
     },
     "execution_count": 108,
     "metadata": {},
     "output_type": "execute_result"
    },
    {
     "data": {
      "image/png": "[encoded data removed]",
      "text/plain": [
       "<Figure size 432x288 with 2 Axes>"
      ]
     },
     "metadata": {
      "needs_background": "light"
     },
     "output_type": "display_data"
    }
   ],
   "source": [
    "sns.heatmap(nc2018.iloc[:, 1:].corr())"
   ]
  },
  {
   "cell_type": "code",
   "execution_count": 109,
   "metadata": {
    "slideshow": {
     "slide_type": "skip"
    }
   },
   "outputs": [
    {
     "data": {
      "text/html": [
       "<div class='tableauPlaceholder' id='viz1607404053680' style='position: relative'><noscript><a href='#'><img alt=' ' src='https:&#47;&#47;public.tableau.com&#47;static&#47;images&#47;Ma&#47;MachineLearningFinal_16074038256280&#47;StarbucksWalmartLocationsChangeinHHIbyZip&#47;1_rss.png' style='border: none' /></a></noscript><object class='tableauViz'  style='display:none;'><param name='host_url' value='https%3A%2F%2Fpublic.tableau.com%2F' /> <param name='embed_code_version' value='3' /> <param name='site_root' value='' /><param name='name' value='MachineLearningFinal_16074038256280&#47;StarbucksWalmartLocationsChangeinHHIbyZip' /><param name='tabs' value='no' /><param name='toolbar' value='yes' /><param name='static_image' value='https:&#47;&#47;public.tableau.com&#47;static&#47;images&#47;Ma&#47;MachineLearningFinal_16074038256280&#47;StarbucksWalmartLocationsChangeinHHIbyZip&#47;1.png' /> <param name='animate_transition' value='yes' /><param name='display_static_image' value='yes' /><param name='display_spinner' value='yes' /><param name='display_overlay' value='yes' /><param name='display_count' value='yes' /><param name='language' value='en' /><param name='filter' value='publish=yes' /></object></div>                <script type='text/javascript'>                    var divElement = document.getElementById('viz1607404053680');                    var vizElement = divElement.getElementsByTagName('object')[0];                    if ( divElement.offsetWidth > 800 ) { vizElement.style.minWidth='420px';vizElement.style.maxWidth='1750px';vizElement.style.width='100%';vizElement.style.minHeight='587px';vizElement.style.maxHeight='887px';vizElement.style.height=(divElement.offsetWidth*0.75)+'px';} else if ( divElement.offsetWidth > 500 ) { vizElement.style.minWidth='420px';vizElement.style.maxWidth='1750px';vizElement.style.width='100%';vizElement.style.minHeight='587px';vizElement.style.maxHeight='887px';vizElement.style.height=(divElement.offsetWidth*0.75)+'px';} else { vizElement.style.width='100%';vizElement.style.height='1377px';}                     var scriptElement = document.createElement('script');                    scriptElement.src = 'https://public.tableau.com/javascripts/api/viz_v1.js';                    vizElement.parentNode.insertBefore(scriptElement, vizElement);                </script>\n"
      ],
      "text/plain": [
       "<IPython.core.display.HTML object>"
      ]
     },
     "metadata": {},
     "output_type": "display_data"
    }
   ],
   "source": [
    "%%html\n",
    "<div class='tableauPlaceholder' id='viz1607404053680' style='position: relative'><noscript><a href='#'><img alt=' ' src='https:&#47;&#47;public.tableau.com&#47;static&#47;images&#47;Ma&#47;MachineLearningFinal_16074038256280&#47;StarbucksWalmartLocationsChangeinHHIbyZip&#47;1_rss.png' style='border: none' /></a></noscript><object class='tableauViz'  style='display:none;'><param name='host_url' value='https%3A%2F%2Fpublic.tableau.com%2F' /> <param name='embed_code_version' value='3' /> <param name='site_root' value='' /><param name='name' value='MachineLearningFinal_16074038256280&#47;StarbucksWalmartLocationsChangeinHHIbyZip' /><param name='tabs' value='no' /><param name='toolbar' value='yes' /><param name='static_image' value='https:&#47;&#47;public.tableau.com&#47;static&#47;images&#47;Ma&#47;MachineLearningFinal_16074038256280&#47;StarbucksWalmartLocationsChangeinHHIbyZip&#47;1.png' /> <param name='animate_transition' value='yes' /><param name='display_static_image' value='yes' /><param name='display_spinner' value='yes' /><param name='display_overlay' value='yes' /><param name='display_count' value='yes' /><param name='language' value='en' /><param name='filter' value='publish=yes' /></object></div>                <script type='text/javascript'>                    var divElement = document.getElementById('viz1607404053680');                    var vizElement = divElement.getElementsByTagName('object')[0];                    if ( divElement.offsetWidth > 800 ) { vizElement.style.minWidth='420px';vizElement.style.maxWidth='1750px';vizElement.style.width='100%';vizElement.style.minHeight='587px';vizElement.style.maxHeight='887px';vizElement.style.height=(divElement.offsetWidth*0.75)+'px';} else if ( divElement.offsetWidth > 500 ) { vizElement.style.minWidth='420px';vizElement.style.maxWidth='1750px';vizElement.style.width='100%';vizElement.style.minHeight='587px';vizElement.style.maxHeight='887px';vizElement.style.height=(divElement.offsetWidth*0.75)+'px';} else { vizElement.style.width='100%';vizElement.style.height='1377px';}                     var scriptElement = document.createElement('script');                    scriptElement.src = 'https://public.tableau.com/javascripts/api/viz_v1.js';                    vizElement.parentNode.insertBefore(scriptElement, vizElement);                </script>"
   ]
  },
  {
   "cell_type": "code",
   "execution_count": null,
   "metadata": {
    "slideshow": {
     "slide_type": "skip"
    }
   },
   "outputs": [],
   "source": []
  }
 ],
 "metadata": {
  "celltoolbar": "Slideshow",
  "kernelspec": {
   "display_name": "Python 3",
   "language": "python",
   "name": "python3"
  },
  "language_info": {
   "codemirror_mode": {
    "name": "ipython",
    "version": 3
   },
   "file_extension": ".py",
   "mimetype": "text/x-python",
   "name": "python",
   "nbconvert_exporter": "python",
   "pygments_lexer": "ipython3",
   "version": "3.6.10"
  }
 },
 "nbformat": 4,
 "nbformat_minor": 4
}
