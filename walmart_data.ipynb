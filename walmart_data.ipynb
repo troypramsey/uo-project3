{
 "cells": [
  {
   "cell_type": "code",
   "execution_count": null,
   "metadata": {},
   "outputs": [],
   "source": [
    "wal_data = pd.read_csv('data_exploration/data/walmartstoreloaction.csv')\n"
   ]
  },
  {
   "cell_type": "code",
   "execution_count": null,
   "metadata": {},
   "outputs": [],
   "source": [
    "wal_data['country'].value_counts()\n"
   ]
  },
  {
   "cell_type": "code",
   "execution_count": null,
   "metadata": {},
   "outputs": [],
   "source": [
    "\n",
    "wal_trimmed = wal_data[['name','street_address','city','state','zip_code','country','latitude','longitude']]\n",
    "wal_trimmed = wal_trimmed.rename(columns={'name': 'Location Name', 'street_address': 'Address', 'city': 'City', 'state': 'State', 'zip_code': 'Zip', 'country': 'Country', 'latitude': 'Lat','longitude':'Long'})\n",
    "wal_trimmed['Brand']='Walmart'\n",
    "wal_trimmed"
   ]
  },
  {
   "cell_type": "code",
   "execution_count": null,
   "metadata": {},
   "outputs": [],
   "source": [
    "\n",
    "# I am attempting to use the length of the 'City' column +1 as the number of characters to remove\n",
    "# from the 'Location Name' value of each row to leave only the Store Type for classification...\n",
    "# I'm not sure how to use a variable to indicate the number of characters to slice off.\n",
    "for index, row in wal_trimmed.iterrows():\n",
    "    city_length = len(row['City'])+1\n",
    "    # Ideally I would have some code that would slice off the number of characters = city_length\n",
    "    # from 'Location Name' for each row"
   ]
  },
  {
   "cell_type": "code",
   "execution_count": null,
   "metadata": {},
   "outputs": [],
   "source": [
    "wal_groupby = wal_trimmed.groupby('Zip')\n"
   ]
  },
  {
   "cell_type": "code",
   "execution_count": null,
   "metadata": {},
   "outputs": [],
   "source": [
    "wal_count = wal_groupby.count()\n",
    "wal_df = pd.DataFrame(wal_count['Brand']).reset_index()"
   ]
  }
 ],
 "metadata": {
  "kernelspec": {
   "display_name": "Python 3",
   "language": "python",
   "name": "python3"
  },
  "language_info": {
   "codemirror_mode": {
    "name": "ipython",
    "version": 3
   },
   "file_extension": ".py",
   "mimetype": "text/x-python",
   "name": "python",
   "nbconvert_exporter": "python",
   "pygments_lexer": "ipython3",
   "version": "3.7.6"
  }
 },
 "nbformat": 4,
 "nbformat_minor": 4
}
